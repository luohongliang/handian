{
 "cells": [
  {
   "cell_type": "code",
   "execution_count": 1,
   "metadata": {
    "collapsed": false,
    "scrolled": false
   },
   "outputs": [
    {
     "name": "stdout",
     "output_type": "stream",
     "text": [
      "Running from notebook, using serial load function.\n",
      "[20, 40, 60, 80, 100]\n",
      "/home/hongliang/inpho/handian/models/handian2-freq5-freq2-N23231312-LDA-K{0}-document-1000.npz\n"
     ]
    }
   ],
   "source": [
    "from corpus import *\n",
    "from vsm import *"
   ]
  },
  {
   "cell_type": "code",
   "execution_count": 2,
   "metadata": {
    "collapsed": false
   },
   "outputs": [
    {
     "name": "stdout",
     "output_type": "stream",
     "text": [
      "20\n",
      "Loading LDA data from /home/hongliang/inpho/handian/models/handian2-freq5-freq2-N23231312-LDA-K20-document-1000.npz\n"
     ]
    }
   ],
   "source": [
    "print topic_range[0]\n",
    "k = topic_range[0]\n",
    "v = lda_v[k]\n",
    "\n",
    "csvpath = 'dynastyof book.csv'\n",
    "jsonpath = 'sankey/multilayer.json'"
   ]
  },
  {
   "cell_type": "code",
   "execution_count": 3,
   "metadata": {
    "collapsed": false
   },
   "outputs": [
    {
     "name": "stdout",
     "output_type": "stream",
     "text": [
      "[['handian2『史部』编年续资治通鉴长编'], 'handian2『集部』别集幽梦影']\n"
     ]
    }
   ],
   "source": [
    "# show characters rather than words\n",
    "\n",
    "\n",
    "example = [[u'handian2\\u300e\\u53f2\\u90e8\\u300f\\u7f16\\u5e74\\u7eed\\u8d44\\u6cbb\\u901a\\u9274\\u957f\\u7f16'],u'handian2\\u300e\\u96c6\\u90e8\\u300f\\u522b\\u96c6\\u5e7d\\u68a6\\u5f71']\n",
    "# example = handian\n",
    "case_list_righ = str(example).replace('u\\'','\\'')\n",
    "print case_list_righ.decode(\"unicode-escape\")\n",
    "\n",
    "def printlist(temp):\n",
    "    example = temp\n",
    "    case_list_righ = str(example).replace('u\\'','\\'')\n",
    "    print case_list_righ.decode(\"unicode-escape\")"
   ]
  },
  {
   "cell_type": "markdown",
   "metadata": {},
   "source": [
    "To change the number of words printed per topic, use the `print_len` argument:"
   ]
  },
  {
   "cell_type": "code",
   "execution_count": 51,
   "metadata": {
    "collapsed": false
   },
   "outputs": [
    {
     "name": "stdout",
     "output_type": "stream",
     "text": [
      "127 127\n"
     ]
    }
   ],
   "source": [
    "folders = set([])\n",
    "for label in v.labels[:]:\n",
    "    folders.add(''.join(label.split('/')[:-1]))\n",
    "folders_dict = dict([])\n",
    "for i in folders:\n",
    "    folders_dict[i] = []\n",
    "\n",
    "count = 0\n",
    "for label in v.labels[:]:\n",
    "    if ''.join(label.split('/')[:-1]) in folders:\n",
    "        temp = ''.join(label.split('/')[:-1])\n",
    "        folders_dict[temp].append(count)\n",
    "    count += 1\n",
    "# printlist(folders_dict)\n",
    "# print count\n",
    "bigfolder = []\n",
    "folders_copy = folders.copy()\n",
    "for a in folders_copy:\n",
    "    if len(folders_dict[a]) <= 30:\n",
    "        folders.remove(a)\n",
    "        folders_dict.pop(a)\n",
    "         \n",
    "print len(folders),len(folders_dict)\n",
    "# printlist(folders_dict)\n"
   ]
  },
  {
   "cell_type": "code",
   "execution_count": 58,
   "metadata": {
    "collapsed": false
   },
   "outputs": [
    {
     "name": "stdout",
     "output_type": "stream",
     "text": [
      "set(['元', '三国', 'DK', '唐', '北魏', '南宋', '清', '南齐', '北宋', '五代十国', '民国', '明', '南北朝', '西晋', '西汉', '北齐', '战国', '东晋', '东汉'])\n"
     ]
    }
   ],
   "source": [
    "import csv\n",
    "import json\n",
    "    \n",
    "\n",
    "dynasties_set = set([])\n",
    "csvfile = open(csvpath,'r')\n",
    "jsonfile = open('test.json','w')\n",
    "filednames = ('book','dynasty')\n",
    "reader = csv.DictReader(csvfile,filednames)\n",
    "dynasties = [[row['dynasty'].decode('utf-8'),row['book'].decode('utf-8')] for row in reader][1:]\n",
    "for row in dynasties: \n",
    "    searchword = 'handian2'+ ''.join(row[1].strip(',').split('/'))\n",
    "    try:\n",
    "        folders_dict[searchword]\n",
    "        dynasties_set.add(row[0])\n",
    "    except:\n",
    "        'already delete'\n",
    "printlist(dynasties_set)\n"
   ]
  },
  {
   "cell_type": "code",
   "execution_count": 5,
   "metadata": {
    "collapsed": false
   },
   "outputs": [
    {
     "name": "stdout",
     "output_type": "stream",
     "text": [
      "handian has 20 nodes\n",
      "handian has 61 nodes\n",
      "handian has 188 nodes\n"
     ]
    }
   ],
   "source": [
    "# depth 0\n",
    "\n",
    "handian = dict()\n",
    "handian['nodes']=[]\n",
    "\n",
    "for a in v.aggregate_doc_topics(v.labels[:], normed_sum=True):\n",
    "    temp = dict()\n",
    "    temp['color'] = \"#a7572a\"\n",
    "    temp['depth'] = 0\n",
    "    temp['name'] = \"T%s\"%a[0]\n",
    "#    temp['weight'] = a[1]\n",
    "    handian['nodes'].append(temp)\n",
    "print 'handian has %s nodes'%len(handian['nodes'])\n",
    "# depth 1\n",
    "\n",
    "for a in dynasties_set:\n",
    "    temp = dict()\n",
    "    temp['color'] = \"#a7572a\"\n",
    "    temp['depth'] = 1\n",
    "    temp['name'] = a\n",
    "    handian['nodes'].append(temp)\n",
    "print 'handian has %s nodes'%len(handian['nodes'])\n",
    "    \n",
    "    \n",
    "# depth 2 folders name  \n",
    "for a in folders:\n",
    "    temp = dict()\n",
    "    temp['color'] = \"#a7572a\"\n",
    "    temp['depth'] = 2\n",
    "    temp['name'] = a\n",
    "    handian['nodes'].append(temp)\n",
    "print 'handian has %s nodes'%len(handian['nodes'])\n",
    "    \n",
    "# 问题，模型里面计算出来的文件夹只有644个，而csv中有八百多个。初步怀疑是空文件的问题。也可以以模型为准。\n",
    "# print len(folders)\n",
    "# print count1\n",
    "# printlist(handian)"
   ]
  },
  {
   "cell_type": "code",
   "execution_count": 6,
   "metadata": {
    "collapsed": false
   },
   "outputs": [
    {
     "name": "stdout",
     "output_type": "stream",
     "text": [
      "handian has 124 links\n",
      "702\n"
     ]
    }
   ],
   "source": [
    "handian['links']=[]\n",
    "\n",
    "\n",
    "csvfile = open(csvpath,'r')\n",
    "jsonfile = open('test.json','w')\n",
    "filednames = ('book','dynasty','year')\n",
    "reader = csv.DictReader(csvfile,filednames)\n",
    "dynasties = [[row['dynasty'].decode('utf-8'),row['book'].decode('utf-8')] for row in reader][1:]\n",
    "count2 = 0\n",
    "for a in dynasties:\n",
    "    # add 'handian2' so that can be the exact index to search\n",
    "    searchword = 'handian2'+ ''.join(a[1].strip(',').split('/'))\n",
    "    try:\n",
    "        index_number = folders_dict[searchword]\n",
    "        for topic in v.aggregate_doc_topics(v.labels[index_number[0]:index_number[-1]+1], normed_sum=True)[:1]:\n",
    "            temp = dict([])\n",
    "            temp['source'] = a[0]\n",
    "            temp['target'] = 'handian2'+''.join(a[1].strip(',').split('/'))\n",
    "            temp['topic'] = 'T%s'%topic[0]\n",
    "            temp['value'] = topic[1]*100\n",
    "            temp['color'] = \"#a7572a\"\n",
    "            handian['links'].append(temp)\n",
    "\n",
    "    except:\n",
    "        count2 += 1\n",
    "print 'handian has %s links'%len(handian['links'])\n",
    "print count2"
   ]
  },
  {
   "cell_type": "code",
   "execution_count": 7,
   "metadata": {
    "collapsed": false
   },
   "outputs": [
    {
     "name": "stdout",
     "output_type": "stream",
     "text": [
      "handian has 191 links\n"
     ]
    }
   ],
   "source": [
    "handian_level2 = handian['links']\n",
    "for topic in range(0,100):\n",
    "    for dynasty in dynasties_set:\n",
    "        temp = {'color':\"#a7572a\",'topic':'T%s'%topic,'source':'T%s'%topic,'target':dynasty,'value':0}\n",
    "        for a in handian_level2:\n",
    "            if a['topic']==temp['topic']:\n",
    "                if a['source']==temp['target']:\n",
    "                    temp['value'] = temp['value'] + a['value']\n",
    "        \n",
    "        if temp['value'] != 0:\n",
    "            handian['links'].append(temp)\n",
    "print 'handian has %s links'%len(handian['links'])"
   ]
  },
  {
   "cell_type": "code",
   "execution_count": 8,
   "metadata": {
    "collapsed": false
   },
   "outputs": [],
   "source": [
    "# handian['links']=[]\n",
    "\n",
    "\n",
    "# csvfile = open(csvpath,'r')\n",
    "# jsonfile = open('test.json','w')\n",
    "# filednames = ('book','dynasty','year')\n",
    "# reader = csv.DictReader(csvfile,filednames)\n",
    "# dynasties = [[row['dynasty'].decode('utf-8'),row['book'].decode('utf-8')] for row in reader][1:]\n",
    "# count2 = 0\n",
    "# for a in dynasties:\n",
    "# # add 'handian2' so that can be the exact index to search\n",
    "#     searchword = 'handian2'+ ''.join(a[1].strip(',').split('/'))\n",
    "#     temp = dict([])\n",
    "#     temp['source'] = a[0]\n",
    "#     temp['target'] = '/'.join(a[1].strip(',').split('/'))\n",
    "\n",
    "#     try:\n",
    "#         folders_dict[searchword]\n",
    "#         temp['value'] = len(folders_dict[searchword])\n",
    "#         handian['links'].append(temp)\n",
    "#     except:\n",
    "# #         print searchword\n",
    "#         count2 += 1\n",
    "# #         print count2\n",
    "# #         print a[1]\n",
    "        \n",
    "\n"
   ]
  },
  {
   "cell_type": "code",
   "execution_count": 9,
   "metadata": {
    "collapsed": false
   },
   "outputs": [],
   "source": [
    "\n",
    "# print type((handian['nodes'][0]['weight']).item())\n",
    "# for a in handian['nodes']:\n",
    "#     a['weight'] = a['weight'].item()\n",
    "for a in handian['links']:\n",
    "    a['value'] = a['value'].item()\n"
   ]
  },
  {
   "cell_type": "code",
   "execution_count": 10,
   "metadata": {
    "collapsed": false
   },
   "outputs": [],
   "source": [
    "import numpy\n",
    "import json\n",
    "data = handian\n",
    "with open(jsonpath, 'w') as f:\n",
    "    f.write(json.dumps(data))"
   ]
  },
  {
   "cell_type": "code",
   "execution_count": 12,
   "metadata": {
    "collapsed": false
   },
   "outputs": [
    {
     "name": "stdout",
     "output_type": "stream",
     "text": [
      "{'nodes': [{'color': '#a7572a', 'depth': 0, 'name': 'T2'}, {'color': '#a7572a', 'depth': 0, 'name': 'T19'}, {'color': '#a7572a', 'depth': 0, 'name': 'T16'}, {'color': '#a7572a', 'depth': 0, 'name': 'T13'}, {'color': '#a7572a', 'depth': 0, 'name': 'T14'}, {'color': '#a7572a', 'depth': 0, 'name': 'T10'}, {'color': '#a7572a', 'depth': 0, 'name': 'T6'}, {'color': '#a7572a', 'depth': 0, 'name': 'T9'}, {'color': '#a7572a', 'depth': 0, 'name': 'T11'}, {'color': '#a7572a', 'depth': 0, 'name': 'T5'}, {'color': '#a7572a', 'depth': 0, 'name': 'T1'}, {'color': '#a7572a', 'depth': 0, 'name': 'T8'}, {'color': '#a7572a', 'depth': 0, 'name': 'T17'}, {'color': '#a7572a', 'depth': 0, 'name': 'T12'}, {'color': '#a7572a', 'depth': 0, 'name': 'T15'}, {'color': '#a7572a', 'depth': 0, 'name': 'T4'}, {'color': '#a7572a', 'depth': 0, 'name': 'T0'}, {'color': '#a7572a', 'depth': 0, 'name': 'T7'}, {'color': '#a7572a', 'depth': 0, 'name': 'T18'}, {'color': '#a7572a', 'depth': 0, 'name': 'T3'}, {'color': '#a7572a', 'depth': 1, 'name': '清'}, {'color': '#a7572a', 'depth': 1, 'name': 'DK'}, {'color': '#a7572a', 'depth': 1, 'name': '北宋—南宋'}, {'color': '#a7572a', 'depth': 1, 'name': '宋'}, {'color': '#a7572a', 'depth': 1, 'name': '北齐'}, {'color': '#a7572a', 'depth': 1, 'name': '北宋'}, {'color': '#a7572a', 'depth': 1, 'name': '明'}, {'color': '#a7572a', 'depth': 1, 'name': '唐'}, {'color': '#a7572a', 'depth': 1, 'name': '东魏'}, {'color': '#a7572a', 'depth': 1, 'name': '唐末'}, {'color': '#a7572a', 'depth': 1, 'name': '东晋'}, {'color': '#a7572a', 'depth': 1, 'name': '春秋/战国'}, {'color': '#a7572a', 'depth': 1, 'name': '东汉'}, {'color': '#a7572a', 'depth': 1, 'name': '南齐'}, {'color': '#a7572a', 'depth': 1, 'name': '三国'}, {'color': '#a7572a', 'depth': 1, 'name': '五代十国'}, {'color': '#a7572a', 'depth': 1, 'name': '汉'}, {'color': '#a7572a', 'depth': 1, 'name': '战国'}, {'color': '#a7572a', 'depth': 1, 'name': '先秦'}, {'color': '#a7572a', 'depth': 1, 'name': '隋'}, {'color': '#a7572a', 'depth': 1, 'name': '东周'}, {'color': '#a7572a', 'depth': 1, 'name': '元'}, {'color': '#a7572a', 'depth': 1, 'name': '明末清初'}, {'color': '#a7572a', 'depth': 1, 'name': '西周'}, {'color': '#a7572a', 'depth': 1, 'name': '北魏'}, {'color': '#a7572a', 'depth': 1, 'name': '民国'}, {'color': '#a7572a', 'depth': 1, 'name': '明代'}, {'color': '#a7572a', 'depth': 1, 'name': '南宋'}, {'color': '#a7572a', 'depth': 1, 'name': '魏'}, {'color': '#a7572a', 'depth': 1, 'name': '南唐'}, {'color': '#a7572a', 'depth': 1, 'name': '春秋战国'}, {'color': '#a7572a', 'depth': 1, 'name': '魏晋'}, {'color': '#a7572a', 'depth': 1, 'name': '春秋'}, {'color': '#a7572a', 'depth': 1, 'name': '北宋／南宋'}, {'color': '#a7572a', 'depth': 1, 'name': '秦'}, {'color': '#a7572a', 'depth': 1, 'name': '南北朝'}, {'color': '#a7572a', 'depth': 1, 'name': '周'}, {'color': '#a7572a', 'depth': 1, 'name': '西晋'}, {'color': '#a7572a', 'depth': 1, 'name': '西汉'}, {'color': '#a7572a', 'depth': 1, 'name': '战国-西汉'}, {'color': '#a7572a', 'depth': 1, 'name': '秦汉'}, {'color': '#a7572a', 'depth': 2, 'name': 'handian2『史部』正史金史'}, {'color': '#a7572a', 'depth': 2, 'name': 'handian2『史部』编年续资治通鉴长编'}, {'color': '#a7572a', 'depth': 2, 'name': 'handian2『史部』地理岭外代答'}, {'color': '#a7572a', 'depth': 2, 'name': 'handian2『集部』总集文(历代诸家)'}, {'color': '#a7572a', 'depth': 2, 'name': 'handian2『史部』地理水经注'}, {'color': '#a7572a', 'depth': 2, 'name': 'handian2『史部』正史旧五代史'}, {'color': '#a7572a', 'depth': 2, 'name': 'handian2『经部』经学史及小学类周易注'}, {'color': '#a7572a', 'depth': 2, 'name': 'handian2『集部』别集元丰类稿'}, {'color': '#a7572a', 'depth': 2, 'name': 'handian2『集部』总集全后魏文'}, {'color': '#a7572a', 'depth': 2, 'name': 'handian2『集部』别集五百家注昌黎文集'}, {'color': '#a7572a', 'depth': 2, 'name': 'handian2『史部』正史魏书'}, {'color': '#a7572a', 'depth': 2, 'name': 'handian2『集部』总集文忠集'}, {'color': '#a7572a', 'depth': 2, 'name': 'handian2『子部』释家古尊宿语录'}, {'color': '#a7572a', 'depth': 2, 'name': 'handian2『集部』总集全三国文'}, {'color': '#a7572a', 'depth': 2, 'name': 'handian2『史部』正史晋书'}, {'color': '#a7572a', 'depth': 2, 'name': 'handian2『史部』传记明儒学案'}, {'color': '#a7572a', 'depth': 2, 'name': 'handian2『史部』正史宋书'}, {'color': '#a7572a', 'depth': 2, 'name': 'handian2『子部』术数三命通会'}, {'color': '#a7572a', 'depth': 2, 'name': 'handian2『史部』地理读史方舆纪要'}, {'color': '#a7572a', 'depth': 2, 'name': 'handian2『经部』十三经注疏尚书正义'}, {'color': '#a7572a', 'depth': 2, 'name': 'handian2『子部』医家灵枢'}, {'color': '#a7572a', 'depth': 2, 'name': 'handian2『子部』类书艺文类聚'}, {'color': '#a7572a', 'depth': 2, 'name': 'handian2『子部』医家素问'}, {'color': '#a7572a', 'depth': 2, 'name': 'handian2『史部』正史史记三家注'}, {'color': '#a7572a', 'depth': 2, 'name': 'handian2『子部』医家金匮要略'}, {'color': '#a7572a', 'depth': 2, 'name': 'handian2『史部』正史新五代史'}, {'color': '#a7572a', 'depth': 2, 'name': 'handian2『集部』总集唐文拾遗'}, {'color': '#a7572a', 'depth': 2, 'name': 'handian2『史部』正史隋书'}, {'color': '#a7572a', 'depth': 2, 'name': 'handian2『集部』总集古谣谚'}, {'color': '#a7572a', 'depth': 2, 'name': 'handian2『集部』总集诗 (历代诸家)'}, {'color': '#a7572a', 'depth': 2, 'name': 'handian2『子部』儒家朱子语类'}, {'color': '#a7572a', 'depth': 2, 'name': 'handian2『史部』政书唐律疏议'}, {'color': '#a7572a', 'depth': 2, 'name': 'handian2『集部』总集全隋文'}, {'color': '#a7572a', 'depth': 2, 'name': 'handian2『集部』别集陶庵梦忆'}, {'color': '#a7572a', 'depth': 2, 'name': 'handian2『史部』正史元史'}, {'color': '#a7572a', 'depth': 2, 'name': 'handian2『史部』正史梁书'}, {'color': '#a7572a', 'depth': 2, 'name': 'handian2『史部』正史周书'}, {'color': '#a7572a', 'depth': 2, 'name': 'handian2『史部』正史明史'}, {'color': '#a7572a', 'depth': 2, 'name': 'handian2『史部』编年西夏书事'}, {'color': '#a7572a', 'depth': 2, 'name': 'handian2『史部』载记万历野获编'}, {'color': '#a7572a', 'depth': 2, 'name': 'handian2『史部』正史南齐书'}, {'color': '#a7572a', 'depth': 2, 'name': 'handian2『子部』兵家练兵实纪'}, {'color': '#a7572a', 'depth': 2, 'name': 'handian2『史部』政书唐会要'}, {'color': '#a7572a', 'depth': 2, 'name': 'handian2『史部』职官唐六典'}, {'color': '#a7572a', 'depth': 2, 'name': 'handian2『子部』杂家墨子白话今译'}, {'color': '#a7572a', 'depth': 2, 'name': 'handian2『集部』诗文评苕溪渔隐丛话前集'}, {'color': '#a7572a', 'depth': 2, 'name': 'handian2『史部』编年续资治通鉴'}, {'color': '#a7572a', 'depth': 2, 'name': 'handian2『史部』别杂史等战国策'}, {'color': '#a7572a', 'depth': 2, 'name': 'handian2『史部』载记律条公案'}, {'color': '#a7572a', 'depth': 2, 'name': 'handian2『经部』十三经注疏春秋公羊传注疏'}, {'color': '#a7572a', 'depth': 2, 'name': 'handian2『集部』总集全后汉文'}, {'color': '#a7572a', 'depth': 2, 'name': 'handian2『集部』总集昭明文选'}, {'color': '#a7572a', 'depth': 2, 'name': 'handian2『集部』别集苏东坡全集'}, {'color': '#a7572a', 'depth': 2, 'name': 'handian2『集部』诗文评文心雕龙'}, {'color': '#a7572a', 'depth': 2, 'name': 'handian2『子部』医家医学源流论'}, {'color': '#a7572a', 'depth': 2, 'name': 'handian2『史部』正史南史'}, {'color': '#a7572a', 'depth': 2, 'name': 'handian2『史部』别杂史等文献通考'}, {'color': '#a7572a', 'depth': 2, 'name': 'handian2『子部』儒家潜夫论笺校正'}, {'color': '#a7572a', 'depth': 2, 'name': 'handian2『集部』总集全晋文'}, {'color': '#a7572a', 'depth': 2, 'name': 'handian2『史部』编年资治通鉴'}, {'color': '#a7572a', 'depth': 2, 'name': 'handian2『史部』别杂史等贞观政要'}, {'color': '#a7572a', 'depth': 2, 'name': 'handian2『史部』正史陈书'}, {'color': '#a7572a', 'depth': 2, 'name': 'handian2『史部』正史北史'}, {'color': '#a7572a', 'depth': 2, 'name': 'handian2『经部』十三经尚书'}, {'color': '#a7572a', 'depth': 2, 'name': 'handian2『子部』杂家容斋随笔'}, {'color': '#a7572a', 'depth': 2, 'name': 'handian2『集部』总集先秦汉魏晋南北朝诗'}, {'color': '#a7572a', 'depth': 2, 'name': 'handian2『集部』总集乐府诗集'}, {'color': '#a7572a', 'depth': 2, 'name': 'handian2『史部』正史三国志'}, {'color': '#a7572a', 'depth': 2, 'name': 'handian2『史部』地理淳熙三山志'}, {'color': '#a7572a', 'depth': 2, 'name': 'handian2『子部』道家老子道德经校释'}, {'color': '#a7572a', 'depth': 2, 'name': 'handian2『集部』别集柳河东集'}, {'color': '#a7572a', 'depth': 2, 'name': 'handian2『子部』儒家荀子'}, {'color': '#a7572a', 'depth': 2, 'name': 'handian2『集部』总集全唐诗'}, {'color': '#a7572a', 'depth': 2, 'name': 'handian2『史部』别杂史等九家旧晋书辑本'}, {'color': '#a7572a', 'depth': 2, 'name': 'handian2『史部』史评读通鉴论'}, {'color': '#a7572a', 'depth': 2, 'name': 'handian2『子部』艺术乐府杂录'}, {'color': '#a7572a', 'depth': 2, 'name': 'handian2『经部』十三经注疏礼记正义'}, {'color': '#a7572a', 'depth': 2, 'name': 'handian2『子部』杂家七修类稿'}, {'color': '#a7572a', 'depth': 2, 'name': 'handian2『集部』别集王右丞集笺注'}, {'color': '#a7572a', 'depth': 2, 'name': 'handian2『史部』正史新唐书'}, {'color': '#a7572a', 'depth': 2, 'name': 'handian2『史部』编年后汉纪校注'}, {'color': '#a7572a', 'depth': 2, 'name': 'handian2『史部』正史清史稿'}, {'color': '#a7572a', 'depth': 2, 'name': 'handian2『集部』词全宋词'}, {'color': '#a7572a', 'depth': 2, 'name': 'handian2『子部』道家庄子集解'}, {'color': '#a7572a', 'depth': 2, 'name': 'handian2『子部』道家云笈七签'}, {'color': '#a7572a', 'depth': 2, 'name': 'handian2『集部』总集全唐文'}, {'color': '#a7572a', 'depth': 2, 'name': 'handian2『集部』总集全宋文'}, {'color': '#a7572a', 'depth': 2, 'name': 'handian2『经部』十三经礼记'}, {'color': '#a7572a', 'depth': 2, 'name': 'handian2『经部』十三经注疏春秋左传正义'}, {'color': '#a7572a', 'depth': 2, 'name': 'handian2『史部』正史宋史'}, {'color': '#a7572a', 'depth': 2, 'name': 'handian2『集部』别集闲情偶记'}, {'color': '#a7572a', 'depth': 2, 'name': 'handian2『子部』杂家日知录'}, {'color': '#a7572a', 'depth': 2, 'name': 'handian2『集部』别集栾城集'}, {'color': '#a7572a', 'depth': 2, 'name': 'handian2『集部』诗文评苕溪渔隐丛话后集'}, {'color': '#a7572a', 'depth': 2, 'name': 'handian2『经部』十三经注疏仪礼注疏'}, {'color': '#a7572a', 'depth': 2, 'name': 'handian2『集部』总集全汉文'}, {'color': '#a7572a', 'depth': 2, 'name': 'handian2『经部』经学史及小学类大戴礼记'}, {'color': '#a7572a', 'depth': 2, 'name': 'handian2『子部』术数月波洞中记'}, {'color': '#a7572a', 'depth': 2, 'name': 'handian2『经部』经学史及小学类东坡易传'}, {'color': '#a7572a', 'depth': 2, 'name': 'handian2『史部』地理武林旧事'}, {'color': '#a7572a', 'depth': 2, 'name': 'handian2『史部』正史旧唐书'}, {'color': '#a7572a', 'depth': 2, 'name': 'handian2『史部』地理台湾通史'}, {'color': '#a7572a', 'depth': 2, 'name': 'handian2『史部』传记廿二史札记'}, {'color': '#a7572a', 'depth': 2, 'name': 'handian2『子部』法家管子'}, {'color': '#a7572a', 'depth': 2, 'name': 'handian2『子部』医家景岳全书'}, {'color': '#a7572a', 'depth': 2, 'name': 'handian2『集部』总集全梁文'}, {'color': '#a7572a', 'depth': 2, 'name': 'handian2『子部』医家濒湖脉学'}, {'color': '#a7572a', 'depth': 2, 'name': 'handian2『经部』十三经注疏周礼注疏'}, {'color': '#a7572a', 'depth': 2, 'name': 'handian2『史部』政书通典'}, {'color': '#a7572a', 'depth': 2, 'name': 'handian2『集部』别集西湖梦寻'}, {'color': '#a7572a', 'depth': 2, 'name': 'handian2『子部』释家法苑珠林'}, {'color': '#a7572a', 'depth': 2, 'name': 'handian2『子部』儒家北溪字义'}, {'color': '#a7572a', 'depth': 2, 'name': 'handian2『子部』法家韩非子'}, {'color': '#a7572a', 'depth': 2, 'name': 'handian2『集部』楚辞文心雕龙译注'}, {'color': '#a7572a', 'depth': 2, 'name': 'handian2『集部』别集李太白全集三十六卷'}, {'color': '#a7572a', 'depth': 2, 'name': 'handian2『史部』正史汉书'}, {'color': '#a7572a', 'depth': 2, 'name': 'handian2『史部』正史北齐书'}, {'color': '#a7572a', 'depth': 2, 'name': 'handian2『子部』医家洗冤集录'}, {'color': '#a7572a', 'depth': 2, 'name': 'handian2『史部』正史辽史'}, {'color': '#a7572a', 'depth': 2, 'name': 'handian2『子部』兵家武经总要'}, {'color': '#a7572a', 'depth': 2, 'name': 'handian2『史部』正史后汉书'}, {'color': '#a7572a', 'depth': 2, 'name': 'handian2『史部』纪事本末三朝北盟会编'}, {'color': '#a7572a', 'depth': 2, 'name': 'handian2『子部』法家棠阴比事'}, {'color': '#a7572a', 'depth': 2, 'name': 'handian2『子部』类书初学记'}, {'color': '#a7572a', 'depth': 2, 'name': 'handian2『子部』道家抱朴子外篇'}, {'color': '#a7572a', 'depth': 2, 'name': 'handian2『史部』正史史记'}, {'color': '#a7572a', 'depth': 2, 'name': 'handian2『子部』兵家太白阴经'}], 'links': [{'topic': 'T16', 'source': 'DK', 'color': '#a7572a', 'target': 'handian2『集部』词全宋词', 'value': 75.18065571784973}, {'topic': 'T13', 'source': 'DK', 'color': '#a7572a', 'target': 'handian2『集部』总集乐府诗集', 'value': 35.425394773483276}, {'topic': 'T13', 'source': 'DK', 'color': '#a7572a', 'target': 'handian2『集部』总集诗 (历代诸家)', 'value': 45.13171911239624}, {'topic': 'T1', 'source': 'DK', 'color': '#a7572a', 'target': 'handian2『集部』总集古谣谚', 'value': 22.251059114933014}, {'topic': 'T13', 'source': 'DK', 'color': '#a7572a', 'target': 'handian2『集部』总集昭明文选', 'value': 27.455127239227295}, {'topic': 'T13', 'source': 'DK', 'color': '#a7572a', 'target': 'handian2『集部』总集先秦汉魏晋南北朝诗', 'value': 38.14103305339813}, {'topic': 'T19', 'source': 'DK', 'color': '#a7572a', 'target': 'handian2『集部』总集全汉文', 'value': 27.628102898597717}, {'topic': 'T2', 'source': 'DK', 'color': '#a7572a', 'target': 'handian2『集部』总集全后汉文', 'value': 18.675245344638824}, {'topic': 'T2', 'source': 'DK', 'color': '#a7572a', 'target': 'handian2『集部』总集全后魏文', 'value': 38.27815353870392}, {'topic': 'T19', 'source': 'DK', 'color': '#a7572a', 'target': 'handian2『集部』总集全三国文', 'value': 20.935405790805817}, {'topic': 'T2', 'source': 'DK', 'color': '#a7572a', 'target': 'handian2『集部』总集全晋文', 'value': 25.85291564464569}, {'topic': 'T2', 'source': 'DK', 'color': '#a7572a', 'target': 'handian2『集部』总集全宋文', 'value': 26.241901516914368}, {'topic': 'T16', 'source': 'DK', 'color': '#a7572a', 'target': 'handian2『集部』总集全唐诗', 'value': 52.77625918388367}, {'topic': 'T9', 'source': 'DK', 'color': '#a7572a', 'target': 'handian2『集部』总集全唐文', 'value': 26.408031582832336}, {'topic': 'T9', 'source': 'DK', 'color': '#a7572a', 'target': 'handian2『集部』总集全梁文', 'value': 21.818193793296814}, {'topic': 'T2', 'source': 'DK', 'color': '#a7572a', 'target': 'handian2『集部』总集全隋文', 'value': 28.134596347808838}, {'topic': 'T2', 'source': 'DK', 'color': '#a7572a', 'target': 'handian2『集部』总集唐文拾遗', 'value': 23.812028765678406}, {'topic': 'T19', 'source': 'DK', 'color': '#a7572a', 'target': 'handian2『集部』总集文(历代诸家)', 'value': 30.978739261627197}, {'topic': 'T2', 'source': 'DK', 'color': '#a7572a', 'target': 'handian2『集部』总集文忠集', 'value': 26.03224217891693}, {'topic': 'T1', 'source': 'DK', 'color': '#a7572a', 'target': 'handian2『子部』道家老子道德经校释', 'value': 46.52961492538452}, {'topic': 'T11', 'source': '三国', 'color': '#a7572a', 'target': 'handian2『经部』经学史及小学类周易注', 'value': 56.7573606967926}, {'topic': 'T2', 'source': '东晋', 'color': '#a7572a', 'target': 'handian2『史部』编年后汉纪校注', 'value': 22.175496816635132}, {'topic': 'T19', 'source': '东晋', 'color': '#a7572a', 'target': 'handian2『子部』道家抱朴子外篇', 'value': 35.524821281433105}, {'topic': 'T12', 'source': '东汉', 'color': '#a7572a', 'target': 'handian2『史部』正史汉书', 'value': 33.16015899181366}, {'topic': 'T18', 'source': '东汉', 'color': '#a7572a', 'target': 'handian2『经部』十三经注疏仪礼注疏', 'value': 68.92729997634888}, {'topic': 'T5', 'source': '东汉', 'color': '#a7572a', 'target': 'handian2『子部』医家金匮要略', 'value': 95.84952592849731}, {'topic': 'T2', 'source': '五代十国', 'color': '#a7572a', 'target': 'handian2『史部』正史旧唐书', 'value': 43.89568567276001}, {'topic': 'T2', 'source': '元', 'color': '#a7572a', 'target': 'handian2『史部』别杂史等文献通考', 'value': 18.898217380046844}, {'topic': 'T2', 'source': '元', 'color': '#a7572a', 'target': 'handian2『史部』正史宋史', 'value': 30.573377013206482}, {'topic': 'T2', 'source': '元', 'color': '#a7572a', 'target': 'handian2『史部』正史辽史', 'value': 32.86333680152893}, {'topic': 'T2', 'source': '元', 'color': '#a7572a', 'target': 'handian2『史部』正史金史', 'value': 30.076327919960022}, {'topic': 'T8', 'source': '北宋', 'color': '#a7572a', 'target': 'handian2『经部』十三经注疏礼记正义', 'value': 31.90999925136566}, {'topic': 'T12', 'source': '北宋', 'color': '#a7572a', 'target': 'handian2『史部』正史史记三家注', 'value': 30.929526686668396}, {'topic': 'T2', 'source': '北宋', 'color': '#a7572a', 'target': 'handian2『史部』正史旧五代史', 'value': 46.235257387161255}, {'topic': 'T2', 'source': '北宋', 'color': '#a7572a', 'target': 'handian2『史部』政书唐会要', 'value': 42.154461145401}, {'topic': 'T19', 'source': '北宋', 'color': '#a7572a', 'target': 'handian2『集部』别集栾城集', 'value': 29.52445149421692}, {'topic': 'T11', 'source': '北宋', 'color': '#a7572a', 'target': 'handian2『经部』经学史及小学类东坡易传', 'value': 54.943668842315674}, {'topic': 'T19', 'source': '北宋', 'color': '#a7572a', 'target': 'handian2『集部』别集苏东坡全集', 'value': 21.251870691776276}, {'topic': 'T2', 'source': '北宋', 'color': '#a7572a', 'target': 'handian2『史部』编年资治通鉴', 'value': 29.367616772651672}, {'topic': 'T19', 'source': '北宋', 'color': '#a7572a', 'target': 'handian2『集部』别集元丰类稿', 'value': 23.247207701206207}, {'topic': 'T7', 'source': '北宋', 'color': '#a7572a', 'target': 'handian2『子部』道家云笈七签', 'value': 19.55624222755432}, {'topic': 'T2', 'source': '北宋', 'color': '#a7572a', 'target': 'handian2『史部』正史新唐书', 'value': 35.95219552516937}, {'topic': 'T2', 'source': '北宋', 'color': '#a7572a', 'target': 'handian2『史部』正史新五代史', 'value': 49.06474947929382}, {'topic': 'T14', 'source': '北宋', 'color': '#a7572a', 'target': 'handian2『子部』兵家武经总要', 'value': 37.5429630279541}, {'topic': 'T17', 'source': '北魏', 'color': '#a7572a', 'target': 'handian2『史部』地理水经注', 'value': 63.76866102218628}, {'topic': 'T2', 'source': '北齐', 'color': '#a7572a', 'target': 'handian2『史部』正史魏书', 'value': 37.751707434654236}, {'topic': 'T2', 'source': '南北朝', 'color': '#a7572a', 'target': 'handian2『史部』正史南齐书', 'value': 33.83622467517853}, {'topic': 'T2', 'source': '南北朝', 'color': '#a7572a', 'target': 'handian2『史部』正史后汉书', 'value': 21.267779171466827}, {'topic': 'T1', 'source': '南北朝', 'color': '#a7572a', 'target': 'handian2『集部』诗文评文心雕龙', 'value': 20.608271658420563}, {'topic': 'T1', 'source': '南北朝', 'color': '#a7572a', 'target': 'handian2『集部』楚辞文心雕龙译注', 'value': 23.01325649023056}, {'topic': 'T10', 'source': '南宋', 'color': '#a7572a', 'target': 'handian2『子部』儒家北溪字义', 'value': 78.07943820953369}, {'topic': 'T14', 'source': '南宋', 'color': '#a7572a', 'target': 'handian2『史部』纪事本末三朝北盟会编', 'value': 27.07967758178711}, {'topic': 'T2', 'source': '南宋', 'color': '#a7572a', 'target': 'handian2『子部』杂家容斋随笔', 'value': 29.903939366340637}, {'topic': 'T6', 'source': '南宋', 'color': '#a7572a', 'target': 'handian2『史部』编年续资治通鉴长编', 'value': 38.1546676158905}, {'topic': 'T16', 'source': '南宋', 'color': '#a7572a', 'target': 'handian2『史部』地理武林旧事', 'value': 27.82779037952423}, {'topic': 'T10', 'source': '南宋', 'color': '#a7572a', 'target': 'handian2『子部』儒家朱子语类', 'value': 70.05566358566284}, {'topic': 'T5', 'source': '南宋', 'color': '#a7572a', 'target': 'handian2『子部』医家洗冤集录', 'value': 50.62114596366882}, {'topic': 'T19', 'source': '南宋', 'color': '#a7572a', 'target': 'handian2『子部』法家棠阴比事', 'value': 30.67432940006256}, {'topic': 'T17', 'source': '南宋', 'color': '#a7572a', 'target': 'handian2『史部』地理淳熙三山志', 'value': 24.266333878040314}, {'topic': 'T5', 'source': '南宋', 'color': '#a7572a', 'target': 'handian2『史部』地理岭外代答', 'value': 16.69505089521408}, {'topic': 'T7', 'source': '南宋', 'color': '#a7572a', 'target': 'handian2『子部』释家古尊宿语录', 'value': 65.87446331977844}, {'topic': 'T5', 'source': '南宋', 'color': '#a7572a', 'target': 'handian2『子部』术数月波洞中记', 'value': 18.24052482843399}, {'topic': 'T16', 'source': '南宋', 'color': '#a7572a', 'target': 'handian2『集部』诗文评苕溪渔隐丛话后集', 'value': 36.14165186882019}, {'topic': 'T16', 'source': '南宋', 'color': '#a7572a', 'target': 'handian2『集部』诗文评苕溪渔隐丛话前集', 'value': 40.43689668178558}, {'topic': 'T2', 'source': '南齐', 'color': '#a7572a', 'target': 'handian2『史部』正史宋书', 'value': 29.982566833496094}, {'topic': 'T8', 'source': '唐', 'color': '#a7572a', 'target': 'handian2『经部』十三经注疏春秋公羊传注疏', 'value': 78.21404337882996}, {'topic': 'T2', 'source': '唐', 'color': '#a7572a', 'target': 'handian2『集部』别集五百家注昌黎文集', 'value': 29.0779709815979}, {'topic': 'T18', 'source': '唐', 'color': '#a7572a', 'target': 'handian2『史部』政书通典', 'value': 24.165675044059753}, {'topic': 'T13', 'source': '唐', 'color': '#a7572a', 'target': 'handian2『集部』别集王右丞集笺注', 'value': 23.702245950698853}, {'topic': 'T2', 'source': '唐', 'color': '#a7572a', 'target': 'handian2『史部』别杂史等贞观政要', 'value': 47.7078914642334}, {'topic': 'T13', 'source': '唐', 'color': '#a7572a', 'target': 'handian2『子部』类书初学记', 'value': 32.774943113327026}, {'topic': 'T8', 'source': '唐', 'color': '#a7572a', 'target': 'handian2『经部』十三经注疏周礼注疏', 'value': 27.5655597448349}, {'topic': 'T8', 'source': '唐', 'color': '#a7572a', 'target': 'handian2『经部』十三经注疏春秋左传正义', 'value': 63.27546834945679}, {'topic': 'T8', 'source': '唐', 'color': '#a7572a', 'target': 'handian2『经部』十三经注疏尚书正义', 'value': 30.724048614501953}, {'topic': 'T0', 'source': '唐', 'color': '#a7572a', 'target': 'handian2『史部』职官唐六典', 'value': 39.561277627944946}, {'topic': 'T7', 'source': '唐', 'color': '#a7572a', 'target': 'handian2『子部』释家法苑珠林', 'value': 66.128408908844}, {'topic': 'T2', 'source': '唐', 'color': '#a7572a', 'target': 'handian2『史部』正史南史', 'value': 44.81328725814819}, {'topic': 'T2', 'source': '唐', 'color': '#a7572a', 'target': 'handian2『史部』正史北史', 'value': 46.67978584766388}, {'topic': 'T6', 'source': '唐', 'color': '#a7572a', 'target': 'handian2『史部』政书唐律疏议', 'value': 55.074119567871094}, {'topic': 'T2', 'source': '唐', 'color': '#a7572a', 'target': 'handian2『史部』正史晋书', 'value': 27.163007855415344}, {'topic': 'T2', 'source': '唐', 'color': '#a7572a', 'target': 'handian2『史部』正史陈书', 'value': 40.37106931209564}, {'topic': 'T2', 'source': '唐', 'color': '#a7572a', 'target': 'handian2『史部』正史周书', 'value': 41.999417543411255}, {'topic': 'T2', 'source': '唐', 'color': '#a7572a', 'target': 'handian2『史部』正史北齐书', 'value': 44.989797472953796}, {'topic': 'T2', 'source': '唐', 'color': '#a7572a', 'target': 'handian2『史部』正史梁书', 'value': 38.68909180164337}, {'topic': 'T2', 'source': '唐', 'color': '#a7572a', 'target': 'handian2『史部』正史隋书', 'value': 34.20742750167847}, {'topic': 'T13', 'source': '唐', 'color': '#a7572a', 'target': 'handian2『子部』类书艺文类聚', 'value': 33.42963457107544}, {'topic': 'T11', 'source': '唐', 'color': '#a7572a', 'target': 'handian2『子部』艺术乐府杂录', 'value': 25.813746452331543}, {'topic': 'T14', 'source': '唐', 'color': '#a7572a', 'target': 'handian2『子部』兵家太白阴经', 'value': 19.541452825069427}, {'topic': 'T2', 'source': '唐', 'color': '#a7572a', 'target': 'handian2『集部』别集柳河东集', 'value': 23.33683967590332}, {'topic': 'T13', 'source': '唐', 'color': '#a7572a', 'target': 'handian2『集部』别集李太白全集三十六卷', 'value': 47.10348844528198}, {'topic': 'T9', 'source': '战国', 'color': '#a7572a', 'target': 'handian2『经部』十三经尚书', 'value': 37.205544114112854}, {'topic': 'T19', 'source': '战国', 'color': '#a7572a', 'target': 'handian2『子部』儒家荀子', 'value': 53.422266244888306}, {'topic': 'T19', 'source': '战国', 'color': '#a7572a', 'target': 'handian2『子部』法家韩非子', 'value': 62.812429666519165}, {'topic': 'T5', 'source': '战国', 'color': '#a7572a', 'target': 'handian2『子部』医家素问', 'value': 76.99720859527588}, {'topic': 'T5', 'source': '战国', 'color': '#a7572a', 'target': 'handian2『子部』医家灵枢', 'value': 72.84430265426636}, {'topic': 'T2', 'source': '明', 'color': '#a7572a', 'target': 'handian2『史部』载记万历野获编', 'value': 41.00060164928436}, {'topic': 'T6', 'source': '明', 'color': '#a7572a', 'target': 'handian2『子部』兵家练兵实纪', 'value': 21.057115495204926}, {'topic': 'T4', 'source': '明', 'color': '#a7572a', 'target': 'handian2『子部』术数三命通会', 'value': 61.079949140548706}, {'topic': 'T5', 'source': '明', 'color': '#a7572a', 'target': 'handian2『子部』医家景岳全书', 'value': 87.2174620628357}, {'topic': 'T5', 'source': '明', 'color': '#a7572a', 'target': 'handian2『子部』医家濒湖脉学', 'value': 67.80593991279602}, {'topic': 'T2', 'source': '明', 'color': '#a7572a', 'target': 'handian2『史部』正史元史', 'value': 21.638748049736023}, {'topic': 'T19', 'source': '明', 'color': '#a7572a', 'target': 'handian2『史部』载记律条公案', 'value': 25.331798195838928}, {'topic': 'T2', 'source': '明', 'color': '#a7572a', 'target': 'handian2『子部』杂家七修类稿', 'value': 20.327764749526978}, {'topic': 'T2', 'source': '明', 'color': '#a7572a', 'target': 'handian2『子部』杂家日知录', 'value': 23.62344264984131}, {'topic': 'T16', 'source': '明', 'color': '#a7572a', 'target': 'handian2『集部』别集陶庵梦忆', 'value': 39.14186656475067}, {'topic': 'T3', 'source': '民国', 'color': '#a7572a', 'target': 'handian2『史部』正史清史稿', 'value': 39.359307289123535}, {'topic': 'T11', 'source': '清', 'color': '#a7572a', 'target': 'handian2『子部』道家庄子集解', 'value': 25.36841630935669}, {'topic': 'T2', 'source': '清', 'color': '#a7572a', 'target': 'handian2『史部』别杂史等九家旧晋书辑本', 'value': 27.519208192825317}, {'topic': 'T14', 'source': '清', 'color': '#a7572a', 'target': 'handian2『史部』编年西夏书事', 'value': 40.386444330215454}, {'topic': 'T2', 'source': '清', 'color': '#a7572a', 'target': 'handian2『史部』编年续资治通鉴', 'value': 38.732144236564636}, {'topic': 'T16', 'source': '清', 'color': '#a7572a', 'target': 'handian2『集部』别集闲情偶记', 'value': 24.92765635251999}, {'topic': 'T5', 'source': '清', 'color': '#a7572a', 'target': 'handian2『子部』医家医学源流论', 'value': 52.14759111404419}, {'topic': 'T2', 'source': '清', 'color': '#a7572a', 'target': 'handian2『史部』正史明史', 'value': 30.174189805984497}, {'topic': 'T19', 'source': '清', 'color': '#a7572a', 'target': 'handian2『史部』史评读通鉴论', 'value': 51.229119300842285}, {'topic': 'T17', 'source': '清', 'color': '#a7572a', 'target': 'handian2『史部』地理读史方舆纪要', 'value': 70.43346762657166}, {'topic': 'T10', 'source': '清', 'color': '#a7572a', 'target': 'handian2『史部』传记明儒学案', 'value': 64.79273438453674}, {'topic': 'T16', 'source': '清', 'color': '#a7572a', 'target': 'handian2『集部』别集西湖梦寻', 'value': 35.40256917476654}, {'topic': 'T19', 'source': '清', 'color': '#a7572a', 'target': 'handian2『子部』儒家潜夫论笺校正', 'value': 27.16149389743805}, {'topic': 'T2', 'source': '西晋', 'color': '#a7572a', 'target': 'handian2『史部』正史三国志', 'value': 27.937883138656616}, {'topic': 'T12', 'source': '西汉', 'color': '#a7572a', 'target': 'handian2『史部』正史史记', 'value': 36.5725576877594}, {'topic': 'T8', 'source': '西汉', 'color': '#a7572a', 'target': 'handian2『史部』别杂史等战国策', 'value': 23.826022446155548}, {'topic': 'T19', 'source': '西汉', 'color': '#a7572a', 'target': 'handian2『经部』经学史及小学类大戴礼记', 'value': 37.06645965576172}, {'topic': 'T18', 'source': '西汉', 'color': '#a7572a', 'target': 'handian2『经部』十三经礼记', 'value': 28.33600640296936}, {'topic': 'T19', 'source': '西汉', 'color': '#a7572a', 'target': 'handian2『子部』法家管子', 'value': 50.918781757354736}, {'color': '#a7572a', 'topic': 'T0', 'target': '唐', 'value': 39.561277627944946, 'source': 'T0'}, {'color': '#a7572a', 'topic': 'T1', 'target': 'DK', 'value': 68.78067404031754, 'source': 'T1'}, {'color': '#a7572a', 'topic': 'T1', 'target': '南北朝', 'value': 43.62152814865112, 'source': 'T1'}, {'color': '#a7572a', 'topic': 'T2', 'target': '清', 'value': 96.42554223537445, 'source': 'T2'}, {'color': '#a7572a', 'topic': 'T2', 'target': 'DK', 'value': 187.02708333730698, 'source': 'T2'}, {'color': '#a7572a', 'topic': 'T2', 'target': '北齐', 'value': 37.751707434654236, 'source': 'T2'}, {'color': '#a7572a', 'topic': 'T2', 'target': '北宋', 'value': 202.77428030967712, 'source': 'T2'}, {'color': '#a7572a', 'topic': 'T2', 'target': '明', 'value': 106.59055709838867, 'source': 'T2'}, {'color': '#a7572a', 'topic': 'T2', 'target': '唐', 'value': 419.03558671474457, 'source': 'T2'}, {'color': '#a7572a', 'topic': 'T2', 'target': '东晋', 'value': 22.175496816635132, 'source': 'T2'}, {'color': '#a7572a', 'topic': 'T2', 'target': '南齐', 'value': 29.982566833496094, 'source': 'T2'}, {'color': '#a7572a', 'topic': 'T2', 'target': '五代十国', 'value': 43.89568567276001, 'source': 'T2'}, {'color': '#a7572a', 'topic': 'T2', 'target': '元', 'value': 112.41125911474228, 'source': 'T2'}, {'color': '#a7572a', 'topic': 'T2', 'target': '南宋', 'value': 29.903939366340637, 'source': 'T2'}, {'color': '#a7572a', 'topic': 'T2', 'target': '南北朝', 'value': 55.104003846645355, 'source': 'T2'}, {'color': '#a7572a', 'topic': 'T2', 'target': '西晋', 'value': 27.937883138656616, 'source': 'T2'}, {'color': '#a7572a', 'topic': 'T3', 'target': '民国', 'value': 39.359307289123535, 'source': 'T3'}, {'color': '#a7572a', 'topic': 'T4', 'target': '明', 'value': 61.079949140548706, 'source': 'T4'}, {'color': '#a7572a', 'topic': 'T5', 'target': '清', 'value': 52.14759111404419, 'source': 'T5'}, {'color': '#a7572a', 'topic': 'T5', 'target': '明', 'value': 155.0234019756317, 'source': 'T5'}, {'color': '#a7572a', 'topic': 'T5', 'target': '东汉', 'value': 95.84952592849731, 'source': 'T5'}, {'color': '#a7572a', 'topic': 'T5', 'target': '战国', 'value': 149.84151124954224, 'source': 'T5'}, {'color': '#a7572a', 'topic': 'T5', 'target': '南宋', 'value': 85.5567216873169, 'source': 'T5'}, {'color': '#a7572a', 'topic': 'T6', 'target': '明', 'value': 21.057115495204926, 'source': 'T6'}, {'color': '#a7572a', 'topic': 'T6', 'target': '唐', 'value': 55.074119567871094, 'source': 'T6'}, {'color': '#a7572a', 'topic': 'T6', 'target': '南宋', 'value': 38.1546676158905, 'source': 'T6'}, {'color': '#a7572a', 'topic': 'T7', 'target': '北宋', 'value': 19.55624222755432, 'source': 'T7'}, {'color': '#a7572a', 'topic': 'T7', 'target': '唐', 'value': 66.128408908844, 'source': 'T7'}, {'color': '#a7572a', 'topic': 'T7', 'target': '南宋', 'value': 65.87446331977844, 'source': 'T7'}, {'color': '#a7572a', 'topic': 'T8', 'target': '北宋', 'value': 31.90999925136566, 'source': 'T8'}, {'color': '#a7572a', 'topic': 'T8', 'target': '唐', 'value': 199.7791200876236, 'source': 'T8'}, {'color': '#a7572a', 'topic': 'T8', 'target': '西汉', 'value': 23.826022446155548, 'source': 'T8'}, {'color': '#a7572a', 'topic': 'T9', 'target': 'DK', 'value': 48.22622537612915, 'source': 'T9'}, {'color': '#a7572a', 'topic': 'T9', 'target': '战国', 'value': 37.205544114112854, 'source': 'T9'}, {'color': '#a7572a', 'topic': 'T10', 'target': '清', 'value': 64.79273438453674, 'source': 'T10'}, {'color': '#a7572a', 'topic': 'T10', 'target': '南宋', 'value': 148.13510179519653, 'source': 'T10'}, {'color': '#a7572a', 'topic': 'T11', 'target': '清', 'value': 25.36841630935669, 'source': 'T11'}, {'color': '#a7572a', 'topic': 'T11', 'target': '北宋', 'value': 54.943668842315674, 'source': 'T11'}, {'color': '#a7572a', 'topic': 'T11', 'target': '唐', 'value': 25.813746452331543, 'source': 'T11'}, {'color': '#a7572a', 'topic': 'T11', 'target': '三国', 'value': 56.7573606967926, 'source': 'T11'}, {'color': '#a7572a', 'topic': 'T12', 'target': '北宋', 'value': 30.929526686668396, 'source': 'T12'}, {'color': '#a7572a', 'topic': 'T12', 'target': '东汉', 'value': 33.16015899181366, 'source': 'T12'}, {'color': '#a7572a', 'topic': 'T12', 'target': '西汉', 'value': 36.5725576877594, 'source': 'T12'}, {'color': '#a7572a', 'topic': 'T13', 'target': 'DK', 'value': 146.15327417850494, 'source': 'T13'}, {'color': '#a7572a', 'topic': 'T13', 'target': '唐', 'value': 137.0103120803833, 'source': 'T13'}, {'color': '#a7572a', 'topic': 'T14', 'target': '清', 'value': 40.386444330215454, 'source': 'T14'}, {'color': '#a7572a', 'topic': 'T14', 'target': '北宋', 'value': 37.5429630279541, 'source': 'T14'}, {'color': '#a7572a', 'topic': 'T14', 'target': '唐', 'value': 19.541452825069427, 'source': 'T14'}, {'color': '#a7572a', 'topic': 'T14', 'target': '南宋', 'value': 27.07967758178711, 'source': 'T14'}, {'color': '#a7572a', 'topic': 'T16', 'target': '清', 'value': 60.33022552728653, 'source': 'T16'}, {'color': '#a7572a', 'topic': 'T16', 'target': 'DK', 'value': 127.9569149017334, 'source': 'T16'}, {'color': '#a7572a', 'topic': 'T16', 'target': '明', 'value': 39.14186656475067, 'source': 'T16'}, {'color': '#a7572a', 'topic': 'T16', 'target': '南宋', 'value': 104.40633893013, 'source': 'T16'}, {'color': '#a7572a', 'topic': 'T17', 'target': '清', 'value': 70.43346762657166, 'source': 'T17'}, {'color': '#a7572a', 'topic': 'T17', 'target': '北魏', 'value': 63.76866102218628, 'source': 'T17'}, {'color': '#a7572a', 'topic': 'T17', 'target': '南宋', 'value': 24.266333878040314, 'source': 'T17'}, {'color': '#a7572a', 'topic': 'T18', 'target': '唐', 'value': 24.165675044059753, 'source': 'T18'}, {'color': '#a7572a', 'topic': 'T18', 'target': '东汉', 'value': 68.92729997634888, 'source': 'T18'}, {'color': '#a7572a', 'topic': 'T18', 'target': '西汉', 'value': 28.33600640296936, 'source': 'T18'}, {'color': '#a7572a', 'topic': 'T19', 'target': '清', 'value': 78.39061319828033, 'source': 'T19'}, {'color': '#a7572a', 'topic': 'T19', 'target': 'DK', 'value': 79.54224795103073, 'source': 'T19'}, {'color': '#a7572a', 'topic': 'T19', 'target': '北宋', 'value': 74.0235298871994, 'source': 'T19'}, {'color': '#a7572a', 'topic': 'T19', 'target': '明', 'value': 25.331798195838928, 'source': 'T19'}, {'color': '#a7572a', 'topic': 'T19', 'target': '东晋', 'value': 35.524821281433105, 'source': 'T19'}, {'color': '#a7572a', 'topic': 'T19', 'target': '战国', 'value': 116.23469591140747, 'source': 'T19'}, {'color': '#a7572a', 'topic': 'T19', 'target': '南宋', 'value': 30.67432940006256, 'source': 'T19'}, {'color': '#a7572a', 'topic': 'T19', 'target': '西汉', 'value': 87.98524141311646, 'source': 'T19'}]}\n"
     ]
    }
   ],
   "source": [
    "printlist(handian)"
   ]
  },
  {
   "cell_type": "markdown",
   "metadata": {},
   "source": [
    "#### `v.doc_topics(doc_or_docs)`\n",
    "Each document-topic distribution can be examined with `v.doc_topics()`, which takes as its argument either a single label or a list of labels. Below we view the distribution for the first 3 documents."
   ]
  },
  {
   "cell_type": "code",
   "execution_count": 30,
   "metadata": {
    "collapsed": false
   },
   "outputs": [
    {
     "name": "stdout",
     "output_type": "stream",
     "text": [
      "[{'color': '#a7572a', 'depth': 0, 'name': 'T2'}, {'color': '#a7572a', 'depth': 0, 'name': 'T19'}, {'color': '#a7572a', 'depth': 0, 'name': 'T16'}, {'color': '#a7572a', 'depth': 0, 'name': 'T13'}, {'color': '#a7572a', 'depth': 0, 'name': 'T14'}, {'color': '#a7572a', 'depth': 1, 'name': u'\\u5317\\u9f50'}, {'color': '#a7572a', 'depth': 1, 'name': u'\\u5317\\u5b8b'}, {'color': '#a7572a', 'depth': 1, 'name': u'\\u660e'}, {'color': '#a7572a', 'depth': 1, 'name': u'\\u5510'}, {'color': '#a7572a', 'depth': 1, 'name': u'\\u4e1c\\u9b4f'}, {'color': '#a7572a', 'depth': 1, 'name': u'\\u5510\\u672b'}, {'color': '#a7572a', 'depth': 2, 'name': u'handian2\\u300e\\u5b50\\u90e8\\u300f\\u827a\\u672f\\u8c61\\u68cb\\u6307\\u5f52'}, {'color': '#a7572a', 'depth': 2, 'name': u'handian2\\u300e\\u5b50\\u90e8\\u300f\\u6742\\u5bb6\\u660e\\u5b63\\u4e09\\u671d\\u91ce\\u53f2'}, {'color': '#a7572a', 'depth': 2, 'name': u'handian2\\u300e\\u53f2\\u90e8\\u300f\\u76ee\\u5f55\\u540d\\u5bb6\\u63a8\\u8350\\u7684\\u56fd\\u5b66\\u4e66\\u76ee'}, {'color': '#a7572a', 'depth': 2, 'name': u'handian2\\u300e\\u96c6\\u90e8\\u300f\\u522b\\u96c6\\u5e7d\\u68a6\\u5f71'}, {'color': '#a7572a', 'depth': 2, 'name': u'handian2\\u300e\\u5b50\\u90e8\\u300f\\u5112\\u5bb6\\u5357\\u8be2\\u5f55'}]\n"
     ]
    }
   ],
   "source": [
    "print handian['nodes'][:5]+handian['nodes'][24:30]+handian['nodes'][-5:]"
   ]
  },
  {
   "cell_type": "code",
   "execution_count": 31,
   "metadata": {
    "collapsed": false,
    "scrolled": true
   },
   "outputs": [
    {
     "name": "stdout",
     "output_type": "stream",
     "text": [
      "[{'color': '#a7572a', 'depth': 1, 'name': u'\\u5317\\u9f50'}, {'color': '#a7572a', 'depth': 1, 'name': u'\\u5317\\u5b8b'}, {'color': '#a7572a', 'depth': 1, 'name': u'\\u660e'}, {'color': '#a7572a', 'depth': 1, 'name': u'\\u5510'}, {'color': '#a7572a', 'depth': 1, 'name': u'\\u4e1c\\u9b4f'}, {'color': '#a7572a', 'depth': 1, 'name': u'\\u5510\\u672b'}]\n"
     ]
    }
   ],
   "source": [
    "print handian['nodes'][24:30]"
   ]
  },
  {
   "cell_type": "code",
   "execution_count": 32,
   "metadata": {
    "collapsed": false
   },
   "outputs": [
    {
     "name": "stdout",
     "output_type": "stream",
     "text": [
      "[{'color': '#a7572a', 'depth': 2, 'name': u'handian2\\u300e\\u5b50\\u90e8\\u300f\\u827a\\u672f\\u8c61\\u68cb\\u6307\\u5f52'}, {'color': '#a7572a', 'depth': 2, 'name': u'handian2\\u300e\\u5b50\\u90e8\\u300f\\u6742\\u5bb6\\u660e\\u5b63\\u4e09\\u671d\\u91ce\\u53f2'}, {'color': '#a7572a', 'depth': 2, 'name': u'handian2\\u300e\\u53f2\\u90e8\\u300f\\u76ee\\u5f55\\u540d\\u5bb6\\u63a8\\u8350\\u7684\\u56fd\\u5b66\\u4e66\\u76ee'}, {'color': '#a7572a', 'depth': 2, 'name': u'handian2\\u300e\\u96c6\\u90e8\\u300f\\u522b\\u96c6\\u5e7d\\u68a6\\u5f71'}, {'color': '#a7572a', 'depth': 2, 'name': u'handian2\\u300e\\u5b50\\u90e8\\u300f\\u5112\\u5bb6\\u5357\\u8be2\\u5f55'}]\n"
     ]
    }
   ],
   "source": [
    "print handian['nodes'][-5:]"
   ]
  },
  {
   "cell_type": "markdown",
   "metadata": {},
   "source": [
    "#### `v.aggregate_doc_topics(doc_or_docs, normed_sum=False)`\n",
    "While `v.doc_topics(doc_or_docs)` shows the distribution for each document, `v.aggregate_doc_topics()` shows the average distribution of a collection of documents. The `normed` argument tells the program whether to weight each document by its length (`normed_sum=True`) or to consider them all equally (`normed_sum=False`)."
   ]
  }
 ],
 "metadata": {
  "anaconda-cloud": {},
  "kernelspec": {
   "display_name": "Python [conda root]",
   "language": "python",
   "name": "conda-root-py"
  },
  "language_info": {
   "codemirror_mode": {
    "name": "ipython",
    "version": 2
   },
   "file_extension": ".py",
   "mimetype": "text/x-python",
   "name": "python",
   "nbconvert_exporter": "python",
   "pygments_lexer": "ipython2",
   "version": "2.7.12"
  }
 },
 "nbformat": 4,
 "nbformat_minor": 0
}
