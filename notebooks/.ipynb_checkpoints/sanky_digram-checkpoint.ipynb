{
 "cells": [
  {
   "cell_type": "code",
   "execution_count": 316,
   "metadata": {
    "collapsed": false,
    "scrolled": false
   },
   "outputs": [],
   "source": [
    "from corpus import *\n",
    "from vsm import *"
   ]
  },
  {
   "cell_type": "markdown",
   "metadata": {},
   "source": [
    "# 测试函数\n",
    "link.value应该是从这个矩阵搞出来的\n",
    "v.model.top_doc 是一个（20,18414）的矩阵\n",
    "np.shape(v.model.top_doc[:][:,].sum(axis=1)) 是一个（20，）的矩阵,每一个元素都是2.54279e+06左右的数字,sum是69310878.375\n",
    "sum(v.model.top_doc[:]) 是一个18414个元素的列表，每一个元素2000到10000，列表总和为69310878.375\n",
    " \n",
    "\n",
    "sankey图中，左边的link的值，大于右边的总和,把不重要的置零。然后计算。\n",
    "我们是，只计算大的"
   ]
  },
  {
   "cell_type": "code",
   "execution_count": 341,
   "metadata": {
    "collapsed": false
   },
   "outputs": [
    {
     "data": {
      "text/plain": [
       "array([ 0.00999999,  0.01000023], dtype=float32)"
      ]
     },
     "execution_count": 341,
     "metadata": {},
     "output_type": "execute_result"
    }
   ],
   "source": [
    "v.model.top_doc[1][:2]"
   ]
  },
  {
   "cell_type": "code",
   "execution_count": 318,
   "metadata": {
    "collapsed": false
   },
   "outputs": [],
   "source": [
    "overall_topics = v.aggregate_doc_topics(v.labels, normed_sum=True)\n",
    "topics = dict()\n",
    "for a in overall_topics:\n",
    "    topics[a[0]] = a[1]\n"
   ]
  },
  {
   "cell_type": "code",
   "execution_count": 319,
   "metadata": {
    "collapsed": false
   },
   "outputs": [
    {
     "name": "stdout",
     "output_type": "stream",
     "text": [
      "20\n"
     ]
    }
   ],
   "source": [
    "print topic_range[0]\n",
    "k = topic_range[0]\n",
    "v = lda_v[k]\n",
    "\n",
    "csvpath = 'dynastyof book.csv'\n",
    "jsonpath = 'sankey/multilayer.json'"
   ]
  },
  {
   "cell_type": "code",
   "execution_count": 320,
   "metadata": {
    "collapsed": false
   },
   "outputs": [
    {
     "name": "stdout",
     "output_type": "stream",
     "text": [
      "[['handian2『史部』编年续资治通鉴长编'], 'handian2『集部』别集幽梦影']\n"
     ]
    }
   ],
   "source": [
    "# show characters rather than words\n",
    "\n",
    "\n",
    "example = [[u'handian2\\u300e\\u53f2\\u90e8\\u300f\\u7f16\\u5e74\\u7eed\\u8d44\\u6cbb\\u901a\\u9274\\u957f\\u7f16'],u'handian2\\u300e\\u96c6\\u90e8\\u300f\\u522b\\u96c6\\u5e7d\\u68a6\\u5f71']\n",
    "# example = handian\n",
    "case_list_righ = str(example).replace('u\\'','\\'')\n",
    "print case_list_righ.decode(\"unicode-escape\")\n",
    "\n",
    "def printlist(temp):\n",
    "    example = temp\n",
    "    case_list_righ = str(example).replace('u\\'','\\'')\n",
    "    print case_list_righ.decode(\"unicode-escape\")"
   ]
  },
  {
   "cell_type": "markdown",
   "metadata": {},
   "source": [
    "To change the number of words printed per topic, use the `print_len` argument:"
   ]
  },
  {
   "cell_type": "code",
   "execution_count": 321,
   "metadata": {
    "collapsed": false
   },
   "outputs": [],
   "source": [
    "# folders = set([])\n",
    "# for label in v.labels[:]:\n",
    "#     folders.add(''.join(label.split('/')[:-1]))\n",
    "# folders_dict = dict([])\n",
    "# for i in folders:\n",
    "#     folders_dict[i] = []\n",
    "\n",
    "# count = 0\n",
    "# for label in v.labels[:]:\n",
    "#     if ''.join(label.split('/')[:-1]) in folders:\n",
    "#         temp = ''.join(label.split('/')[:-1])\n",
    "#         folders_dict[temp].append(count)\n",
    "#     count += 1\n",
    "# # printlist(folders_dict)\n",
    "# # print count\n",
    "# bigfolder = []\n",
    "# folders_copy = folders.copy()\n",
    "# for a in folders_copy:\n",
    "#     if len(folders_dict[a]) <= 80:\n",
    "#         folders.remove(a)\n",
    "#         folders_dict.pop(a)\n",
    "         \n",
    "# print len(folders),len(folders_dict)\n",
    "# # printlist(folders_dict)\n"
   ]
  },
  {
   "cell_type": "markdown",
   "metadata": {},
   "source": [
    "# 经部48  史部 135 （大于8 有81） 子部334（大于16 有75） 集部127（大于16 有52）"
   ]
  },
  {
   "cell_type": "code",
   "execution_count": 322,
   "metadata": {
    "collapsed": false
   },
   "outputs": [
    {
     "name": "stdout",
     "output_type": "stream",
     "text": [
      "48 48\n"
     ]
    }
   ],
   "source": [
    "folders = set([])\n",
    "folders_dict = dict([])\n",
    "for label in v.labels[:]:\n",
    "    temp = ''.join(label.split('/')[:-1])\n",
    "    if '『经部'.decode('utf-8') in temp:\n",
    "        folders.add(temp)\n",
    "        folders_dict[temp] = []\n",
    "\n",
    "count = 0\n",
    "for label in v.labels[:]:\n",
    "    temp = ''.join(label.split('/')[:-1])\n",
    "    if '『经部'.decode('utf-8') in temp:\n",
    "     \n",
    "        folders_dict[temp].append(count)\n",
    "    count += 1\n",
    "\n",
    "# folders_copy = folders.copy()\n",
    "# for a in folders_copy:\n",
    "#     if len(folders_dict[a]) <= 15:\n",
    "#         folders.remove(a)\n",
    "#         folders_dict.pop(a)\n",
    "         \n",
    "print len(folders),len(folders_dict)\n",
    "\n"
   ]
  },
  {
   "cell_type": "code",
   "execution_count": 323,
   "metadata": {
    "collapsed": false
   },
   "outputs": [],
   "source": [
    "# for label in v.labels[:]:\n",
    "#     temp = ''.join(label.split('/')[:-1])\n",
    "#     if '『子部'.decode('utf-8') in temp or '『经部'.decode('utf-8') in temp:\n",
    "#         print temp\n"
   ]
  },
  {
   "cell_type": "code",
   "execution_count": 324,
   "metadata": {
    "collapsed": false
   },
   "outputs": [
    {
     "name": "stdout",
     "output_type": "stream",
     "text": [
      "set(['三国', '春秋战国', '春秋', '汉', '南宋', '西周', '北宋', '明', '秦汉', '唐', '西汉', '战国', '清', '东晋', '东汉'])\n"
     ]
    }
   ],
   "source": [
    "import csv\n",
    "import json\n",
    "    \n",
    "\n",
    "dynasties_set = set([])\n",
    "csvfile = open(csvpath,'r')\n",
    "jsonfile = open('test.json','w')\n",
    "filednames = ('book','dynasty')\n",
    "reader = csv.DictReader(csvfile,filednames)\n",
    "dynasties = [[row['dynasty'].decode('utf-8'),row['book'].decode('utf-8')] for row in reader][1:]\n",
    "for row in dynasties: \n",
    "    searchword = 'handian2'+ ''.join(row[1].strip(',').split('/'))\n",
    "    try:\n",
    "        folders_dict[searchword]\n",
    "        dynasties_set.add(row[0])\n",
    "    except:\n",
    "        'already delete'\n",
    "printlist(dynasties_set)\n"
   ]
  },
  {
   "cell_type": "code",
   "execution_count": 325,
   "metadata": {
    "collapsed": false,
    "scrolled": true
   },
   "outputs": [
    {
     "name": "stdout",
     "output_type": "stream",
     "text": [
      "handian has 20 nodes\n",
      "handian has 35 nodes\n",
      "handian has 83 nodes\n"
     ]
    }
   ],
   "source": [
    "## depth 0\n",
    "import topicexplorer.lib.color as color\n",
    "topic_color = dict(get_topic_colors(v))\n",
    "\n",
    "handian = dict()\n",
    "handian['nodes']=[]\n",
    "\n",
    "for a in v.aggregate_doc_topics(v.labels[:], normed_sum=True):\n",
    "    temp = dict()\n",
    "    temp['color'] = color.rgb2hex(topic_color[a[0]])\n",
    "    temp['depth'] = 0\n",
    "    temp['name'] = \"T%s\"%a[0]\n",
    "#    temp['weight'] = a[1]\n",
    "    temp['words'] = ', '.join(v.topics()[a[0]][:10]['word'])\n",
    "    handian['nodes'].append(temp)\n",
    "print 'handian has %s nodes'%len(handian['nodes'])\n",
    "# depth 1\n",
    "\n",
    "for a in dynasties_set:\n",
    "    temp = dict()\n",
    "    temp['depth'] = 1\n",
    "    temp['name'] = a\n",
    "    handian['nodes'].append(temp)\n",
    "print 'handian has %s nodes'%len(handian['nodes'])\n",
    "    \n",
    "    \n",
    "# depth 2 folders name  \n",
    "for a in folders:\n",
    "    temp = dict()\n",
    "    temp['depth'] = 2\n",
    "    temp['name'] = a\n",
    "    handian['nodes'].append(temp)\n",
    "print 'handian has %s nodes'%len(handian['nodes'])\n",
    "    \n",
    "# 问题，模型里面计算出来的文件夹只有644个，而csv中有八百多个。初步怀疑是空文件的问题。也可以以模型为准。\n",
    "# print len(folders)\n",
    "# print count1\n",
    "# printlist(handian)"
   ]
  },
  {
   "cell_type": "code",
   "execution_count": 326,
   "metadata": {
    "collapsed": false
   },
   "outputs": [],
   "source": [
    "# handian['links']=[]\n",
    "\n",
    "\n",
    "\n",
    "# csvfile = open(csvpath,'r')\n",
    "# jsonfile = open('test.json','w')\n",
    "# filednames = ('book','dynasty','year')\n",
    "# reader = csv.DictReader(csvfile,filednames)\n",
    "# dynasties = [[row['dynasty'].decode('utf-8'),row['book'].decode('utf-8')] for row in reader][1:]\n",
    "# count2 = 0\n",
    "# for a in dynasties:\n",
    "#     # add 'handian2' so that can be the exact index to search\n",
    "#     searchword = 'handian2'+ ''.join(a[1].strip(',').split('/'))\n",
    "#     try:\n",
    "#         index_number = folders_dict[searchword]\n",
    "#         for topic in v.aggregate_doc_topics(v.labels[index_number[0]:index_number[-1]+1], normed_sum=True)[:1]:\n",
    "#             temp = dict([])\n",
    "#             temp['source'] = a[0]\n",
    "#             temp['target'] = 'handian2'+''.join(a[1].strip(',').split('/'))\n",
    "#             temp['topic'] = 'T%s'%topic[0]\n",
    "#             temp['value'] = topic[1]*100\n",
    "#             temp['color'] = color.rgb2hex(topic_color[topic[0]])\n",
    "#             handian['links'].append(temp)\n",
    "\n",
    "#     except:\n",
    "#         count2 += 1\n",
    "# print 'handian has %s links'%len(handian['links'])\n",
    "# print count2"
   ]
  },
  {
   "cell_type": "code",
   "execution_count": null,
   "metadata": {
    "collapsed": false
   },
   "outputs": [],
   "source": []
  },
  {
   "cell_type": "code",
   "execution_count": 327,
   "metadata": {
    "collapsed": false
   },
   "outputs": [
    {
     "name": "stdout",
     "output_type": "stream",
     "text": [
      "handian has 64 links\n",
      "779\n"
     ]
    }
   ],
   "source": [
    "handian['links']=[]\n",
    "\n",
    "\n",
    "\n",
    "csvfile = open(csvpath,'r')\n",
    "jsonfile = open('test.json','w')\n",
    "filednames = ('book','dynasty','year')\n",
    "reader = csv.DictReader(csvfile,filednames)\n",
    "dynasties = [[row['dynasty'].decode('utf-8'),row['book'].decode('utf-8')] for row in reader][1:]\n",
    "count2 = 0\n",
    "for a in dynasties:\n",
    "    # add 'handian2' so that can be the exact index to search\n",
    "    searchword = 'handian2'+ ''.join(a[1].strip(',').split('/'))\n",
    "    try:\n",
    "        index_number = folders_dict[searchword]\n",
    "        for topic in v.aggregate_doc_topics(v.labels[index_number[0]:index_number[-1]+1], normed_sum=True):\n",
    "            if topic[1] >= topics[topic[0]]**0.5:\n",
    "                \n",
    "                temp = dict([])\n",
    "                temp['source'] = a[0]\n",
    "                temp['target'] = 'handian2'+''.join(a[1].strip(',').split('/'))\n",
    "                temp['topic'] = 'T%s'%topic[0]\n",
    "                \n",
    "                temp['value'] = sum(v.model.top_doc[topic[0]][index_number[0]:index_number[-1]+1])\n",
    "#                 sum_topic_value = sum(v.model.top_doc[topic[0]][index_number[0]:index_number[-1]+1])\n",
    "                temp['value'] = math.log(sum_topic_value,100)\n",
    "                temp['color'] = color.rgb2hex(topic_color[topic[0]])\n",
    "                handian['links'].append(temp)\n",
    "\n",
    "    except:\n",
    "        count2 += 1\n",
    "print 'handian has %s links'%len(handian['links'])\n",
    "print count2"
   ]
  },
  {
   "cell_type": "code",
   "execution_count": 328,
   "metadata": {
    "collapsed": false
   },
   "outputs": [
    {
     "name": "stdout",
     "output_type": "stream",
     "text": [
      "handian has 106 links\n"
     ]
    }
   ],
   "source": [
    "handian_level2 = handian['links']\n",
    "for topic in range(0,100):\n",
    "    for dynasty in dynasties_set:\n",
    "        temp = {'topic':'T%s'%topic,'source':'T%s'%topic,'target':dynasty,'value':0}\n",
    "        for a in handian_level2:\n",
    "            if a['topic']==temp['topic']:\n",
    "                if a['source']==temp['target']:\n",
    "                    temp['value'] = temp['value'] + a['value']\n",
    "                    temp['color'] = color.rgb2hex(topic_color[topic])\n",
    "        \n",
    "        if temp['value'] != 0:\n",
    "            handian['links'].append(temp)\n",
    "print 'handian has %s links'%len(handian['links'])"
   ]
  },
  {
   "cell_type": "code",
   "execution_count": 329,
   "metadata": {
    "collapsed": false
   },
   "outputs": [],
   "source": [
    "# handian['links']=[]\n",
    "\n",
    "\n",
    "# csvfile = open(csvpath,'r')\n",
    "# jsonfile = open('test.json','w')\n",
    "# filednames = ('book','dynasty','year')\n",
    "# reader = csv.DictReader(csvfile,filednames)\n",
    "# dynasties = [[row['dynasty'].decode('utf-8'),row['book'].decode('utf-8')] for row in reader][1:]\n",
    "# count2 = 0\n",
    "# for a in dynasties:\n",
    "# # add 'handian2' so that can be the exact index to search\n",
    "#     searchword = 'handian2'+ ''.join(a[1].strip(',').split('/'))\n",
    "#     temp = dict([])\n",
    "#     temp['source'] = a[0]\n",
    "#     temp['target'] = '/'.join(a[1].strip(',').split('/'))\n",
    "\n",
    "#     try:\n",
    "#         folders_dict[searchword]\n",
    "#         temp['value'] = len(folders_dict[searchword])\n",
    "#         handian['links'].append(temp)\n",
    "#     except:\n",
    "# #         print searchword\n",
    "#         count2 += 1\n",
    "# #         print count2\n",
    "# #         print a[1]\n",
    "        \n",
    "\n"
   ]
  },
  {
   "cell_type": "code",
   "execution_count": 330,
   "metadata": {
    "collapsed": false
   },
   "outputs": [
    {
     "ename": "AttributeError",
     "evalue": "'float' object has no attribute 'item'",
     "output_type": "error",
     "traceback": [
      "\u001b[0;31m---------------------------------------------------------------------------\u001b[0m",
      "\u001b[0;31mAttributeError\u001b[0m                            Traceback (most recent call last)",
      "\u001b[0;32m<ipython-input-330-3ad7a85f8d41>\u001b[0m in \u001b[0;36m<module>\u001b[0;34m()\u001b[0m\n\u001b[1;32m      4\u001b[0m \u001b[0;31m#     a['weight'] = a['weight'].item()\u001b[0m\u001b[0;34m\u001b[0m\u001b[0;34m\u001b[0m\u001b[0m\n\u001b[1;32m      5\u001b[0m \u001b[0;32mfor\u001b[0m \u001b[0ma\u001b[0m \u001b[0;32min\u001b[0m \u001b[0mhandian\u001b[0m\u001b[0;34m[\u001b[0m\u001b[0;34m'links'\u001b[0m\u001b[0;34m]\u001b[0m\u001b[0;34m:\u001b[0m\u001b[0;34m\u001b[0m\u001b[0m\n\u001b[0;32m----> 6\u001b[0;31m     \u001b[0ma\u001b[0m\u001b[0;34m[\u001b[0m\u001b[0;34m'value'\u001b[0m\u001b[0;34m]\u001b[0m \u001b[0;34m=\u001b[0m \u001b[0ma\u001b[0m\u001b[0;34m[\u001b[0m\u001b[0;34m'value'\u001b[0m\u001b[0;34m]\u001b[0m\u001b[0;34m.\u001b[0m\u001b[0mitem\u001b[0m\u001b[0;34m(\u001b[0m\u001b[0;34m)\u001b[0m\u001b[0;34m\u001b[0m\u001b[0m\n\u001b[0m",
      "\u001b[0;31mAttributeError\u001b[0m: 'float' object has no attribute 'item'"
     ]
    }
   ],
   "source": [
    "\n",
    "# print type((handian['nodes'][0]['weight']).item())\n",
    "# for a in handian['nodes']:\n",
    "#     a['weight'] = a['weight'].item()\n",
    "for a in handian['links']:\n",
    "    a['value'] = a['value'].item()\n"
   ]
  },
  {
   "cell_type": "code",
   "execution_count": 331,
   "metadata": {
    "collapsed": false
   },
   "outputs": [],
   "source": [
    "import numpy\n",
    "import json\n",
    "data = handian\n",
    "with open(jsonpath, 'w') as f:\n",
    "    f.write(json.dumps(data))"
   ]
  },
  {
   "cell_type": "code",
   "execution_count": 332,
   "metadata": {
    "collapsed": false
   },
   "outputs": [
    {
     "name": "stdout",
     "output_type": "stream",
     "text": [
      "{'nodes': [{'color': '#4daf4a', 'depth': 0, 'name': 'T2', 'words': '年, 王, 帝, 太, 书, 宗, 元, 时, 文, 国'}, {'color': '#974fa2', 'depth': 0, 'name': 'T19', 'words': '能, 天, 臣, 民, 死, 行, 时, 道, 心, 已'}, {'color': '#e41a1c', 'depth': 0, 'name': 'T16', 'words': '卷, 花, 风, 山, 时, 春, 日, 归, 月, 年'}, {'color': '#fffe33', 'depth': 0, 'name': 'T13', 'words': '山, 金, 风, 日, 诗, 玉, 高, 生, 飞, 光'}, {'color': '#a7572a', 'depth': 0, 'name': 'T14', 'words': '军, 兵, 将, 州, 城, 遣, 战, 贼, 马, 守'}, {'color': '#4daf4a', 'depth': 0, 'name': 'T10', 'words': '心, 道, 生, 理, 学, 物, 能, 天, 处, 明'}, {'color': '#a7572a', 'depth': 0, 'name': 'T6', 'words': '官, 本, 钱, 年, 臣, 日, 百, 路, 州, 司'}, {'color': '#397db6', 'depth': 0, 'name': 'T9', 'words': '德, 阙, 天, 圣, 臣, 心, 道, 将, 神, 明'}, {'color': '#974fa2', 'depth': 0, 'name': 'T11', 'words': '天, 乐, 地, 物, 音, 声, 象, 正, 分, 神'}, {'color': '#fffe33', 'depth': 0, 'name': 'T5', 'words': '气, 服, 热, 水, 病, 黄, 治, 血, 寒, 阳'}, {'color': '#397db6', 'depth': 0, 'name': 'T1', 'words': '卷, 书, 文, 本, 诗, 传, 集, 记, 经, 纪'}, {'color': '#e41a1c', 'depth': 0, 'name': 'T8', 'words': '王, 侯, 国, 齐, 年, 义, 正, 文, 郑, 礼'}, {'color': '#397db6', 'depth': 0, 'name': 'T17', 'words': '县, 州, 南, 东, 山, 西, 里, 水, 年, 北'}, {'color': '#ff8000', 'depth': 0, 'name': 'T12', 'words': '王, 帝, 年, 汉, 国, 太, 侯, 武, 秦, 元'}, {'color': '#f781bf', 'depth': 0, 'name': 'T15', 'words': '军, 将, 史, 刺, 王, 州, 阳, 司, 郡, 魏'}, {'color': '#ff8000', 'depth': 0, 'name': 'T4', 'words': '月, 日, 年, 星, 辰, 度, 壬, 辛, 庚, 甲'}, {'color': '#e41a1c', 'depth': 0, 'name': 'T0', 'words': '官, 司, 部, 郎, 书, 史, 州, 士, 侍, 御'}, {'color': '#f781bf', 'depth': 0, 'name': 'T7', 'words': '师, 法, 佛, 经, 道, 僧, 生, 时, 王, 门'}, {'color': '#4daf4a', 'depth': 0, 'name': 'T18', 'words': '礼, 祭, 服, 庙, 祀, 位, 皇, 拜, 西, 门'}, {'color': '#974fa2', 'depth': 0, 'name': 'T3', 'words': '年, 江, 尔, 督, 总, 兵, 部, 抚, 南, 命'}, {'depth': 1, 'name': '三国'}, {'depth': 1, 'name': '春秋战国'}, {'depth': 1, 'name': '春秋'}, {'depth': 1, 'name': '汉'}, {'depth': 1, 'name': '南宋'}, {'depth': 1, 'name': '西周'}, {'depth': 1, 'name': '北宋'}, {'depth': 1, 'name': '明'}, {'depth': 1, 'name': '秦汉'}, {'depth': 1, 'name': '唐'}, {'depth': 1, 'name': '西汉'}, {'depth': 1, 'name': '战国'}, {'depth': 1, 'name': '清'}, {'depth': 1, 'name': '东晋'}, {'depth': 1, 'name': '东汉'}, {'depth': 2, 'name': 'handian2『经部』经学史及小学类輶轩使者绝代语释别国方言'}, {'depth': 2, 'name': 'handian2『经部』经学史及小学类泰泉乡礼'}, {'depth': 2, 'name': 'handian2『经部』十三经注疏春秋公羊传注疏'}, {'depth': 2, 'name': 'handian2『经部』经学史及小学类中庸章句'}, {'depth': 2, 'name': 'handian2『经部』十三经注疏礼记正义'}, {'depth': 2, 'name': 'handian2『经部』经学史及小学类大戴礼记'}, {'depth': 2, 'name': 'handian2『经部』十三经周易'}, {'depth': 2, 'name': 'handian2『经部』经学史及小学类大学章句'}, {'depth': 2, 'name': 'handian2『经部』经学史及小学类孟子字义疏证'}, {'depth': 2, 'name': 'handian2『经部』经学史及小学类周易集解'}, {'depth': 2, 'name': 'handian2『经部』十三经注疏周礼注疏'}, {'depth': 2, 'name': 'handian2『经部』十三经注疏孝经注疏'}, {'depth': 2, 'name': 'handian2『经部』经学史及小学类易传'}, {'depth': 2, 'name': 'handian2『经部』十三经孝经'}, {'depth': 2, 'name': 'handian2『经部』十三经注疏周易正义'}, {'depth': 2, 'name': 'handian2『经部』经学史及小学类子夏易传'}, {'depth': 2, 'name': 'handian2『经部』十三经尔雅'}, {'depth': 2, 'name': 'handian2『经部』经学史及小学类东坡易传'}, {'depth': 2, 'name': 'handian2『经部』十三经诗经'}, {'depth': 2, 'name': 'handian2『经部』十三经礼记'}, {'depth': 2, 'name': 'handian2『经部』十三经注疏论语集注'}, {'depth': 2, 'name': 'handian2『经部』十三经孟子'}, {'depth': 2, 'name': 'handian2『经部』十三经注疏春秋谷梁传注疏'}, {'depth': 2, 'name': 'handian2『经部』十三经注疏孟子集注'}, {'depth': 2, 'name': 'handian2『经部』十三经注疏春秋左传正义'}, {'depth': 2, 'name': 'handian2『经部』十三经注疏孟子注疏'}, {'depth': 2, 'name': 'handian2『经部』十三经仪礼'}, {'depth': 2, 'name': 'handian2『经部』经学史及小学类周易略例'}, {'depth': 2, 'name': 'handian2『经部』经学史及小学类释名'}, {'depth': 2, 'name': 'handian2『经部』十三经论语'}, {'depth': 2, 'name': 'handian2『经部』十三经周礼'}, {'depth': 2, 'name': 'handian2『经部』十三经春秋左传'}, {'depth': 2, 'name': 'handian2『经部』经学史及小学类周易注'}, {'depth': 2, 'name': 'handian2『经部』十三经注疏论语注疏'}, {'depth': 2, 'name': 'handian2『经部』十三经春秋谷梁传'}, {'depth': 2, 'name': 'handian2『经部』十三经春秋公羊传'}, {'depth': 2, 'name': 'handian2『经部』经学史及小学类韩诗外传'}, {'depth': 2, 'name': 'handian2『经部』经学史及小学类周易郑康成注'}, {'depth': 2, 'name': 'handian2『经部』十三经定州汉墓竹简《论语》'}, {'depth': 2, 'name': 'handian2『经部』经学史及小学类易童子问'}, {'depth': 2, 'name': 'handian2『经部』十三经尚书'}, {'depth': 2, 'name': 'handian2『经部』经学史及小学类深衣考误'}, {'depth': 2, 'name': 'handian2『经部』经学史及小学类陆氏易解'}, {'depth': 2, 'name': 'handian2『经部』十三经注疏仪礼注疏'}, {'depth': 2, 'name': 'handian2『经部』十三经注疏尔雅注疏'}, {'depth': 2, 'name': 'handian2『经部』经学史及小学类新本郑氏周易'}, {'depth': 2, 'name': 'handian2『经部』经学史及小学类毛诗'}, {'depth': 2, 'name': 'handian2『经部』十三经注疏尚书正义'}], 'links': [{'topic': 'T11', 'source': '三国', 'color': '#974fa2', 'target': 'handian2『经部』经学史及小学类周易略例', 'value': 1.8664822047117422}, {'topic': 'T10', 'source': '三国', 'color': '#4daf4a', 'target': 'handian2『经部』经学史及小学类周易略例', 'value': 1.8664822047117422}, {'topic': 'T11', 'source': '三国', 'color': '#974fa2', 'target': 'handian2『经部』经学史及小学类周易注', 'value': 1.8664822047117422}, {'topic': 'T8', 'source': '东晋', 'color': '#e41a1c', 'target': 'handian2『经部』十三经注疏春秋谷梁传注疏', 'value': 1.8664822047117422}, {'topic': 'T18', 'source': '东汉', 'color': '#4daf4a', 'target': 'handian2『经部』十三经注疏仪礼注疏', 'value': 1.8664822047117422}, {'topic': 'T8', 'source': '东汉', 'color': '#e41a1c', 'target': 'handian2『经部』十三经注疏仪礼注疏', 'value': 1.8664822047117422}, {'topic': 'T8', 'source': '北宋', 'color': '#e41a1c', 'target': 'handian2『经部』十三经注疏孟子注疏', 'value': 1.8664822047117422}, {'topic': 'T8', 'source': '北宋', 'color': '#e41a1c', 'target': 'handian2『经部』十三经注疏礼记正义', 'value': 1.8664822047117422}, {'topic': 'T18', 'source': '北宋', 'color': '#4daf4a', 'target': 'handian2『经部』十三经注疏礼记正义', 'value': 1.8664822047117422}, {'topic': 'T8', 'source': '北宋', 'color': '#e41a1c', 'target': 'handian2『经部』十三经注疏论语注疏', 'value': 1.8664822047117422}, {'topic': 'T8', 'source': '北宋', 'color': '#e41a1c', 'target': 'handian2『经部』十三经注疏孝经注疏', 'value': 1.8664822047117422}, {'topic': 'T10', 'source': '北宋', 'color': '#4daf4a', 'target': 'handian2『经部』十三经注疏孝经注疏', 'value': 1.8664822047117422}, {'topic': 'T11', 'source': '北宋', 'color': '#974fa2', 'target': 'handian2『经部』经学史及小学类东坡易传', 'value': 1.8664822047117422}, {'topic': 'T19', 'source': '北宋', 'color': '#974fa2', 'target': 'handian2『经部』经学史及小学类东坡易传', 'value': 1.8664822047117422}, {'topic': 'T11', 'source': '北宋', 'color': '#974fa2', 'target': 'handian2『经部』经学史及小学类易童子问', 'value': 1.8664822047117422}, {'topic': 'T1', 'source': '南宋', 'color': '#397db6', 'target': 'handian2『经部』经学史及小学类周易郑康成注', 'value': 1.8664822047117422}, {'topic': 'T11', 'source': '南宋', 'color': '#974fa2', 'target': 'handian2『经部』经学史及小学类新本郑氏周易', 'value': 1.8664822047117422}, {'topic': 'T10', 'source': '南宋', 'color': '#4daf4a', 'target': 'handian2『经部』经学史及小学类大学章句', 'value': 1.8664822047117422}, {'topic': 'T10', 'source': '南宋', 'color': '#4daf4a', 'target': 'handian2『经部』经学史及小学类中庸章句', 'value': 1.8664822047117422}, {'topic': 'T10', 'source': '南宋', 'color': '#4daf4a', 'target': 'handian2『经部』十三经注疏论语集注', 'value': 1.8664822047117422}, {'topic': 'T8', 'source': '南宋', 'color': '#e41a1c', 'target': 'handian2『经部』十三经注疏论语集注', 'value': 1.8664822047117422}, {'topic': 'T10', 'source': '南宋', 'color': '#4daf4a', 'target': 'handian2『经部』十三经注疏孟子集注', 'value': 1.8664822047117422}, {'topic': 'T8', 'source': '南宋', 'color': '#e41a1c', 'target': 'handian2『经部』十三经注疏孟子集注', 'value': 1.8664822047117422}, {'topic': 'T8', 'source': '唐', 'color': '#e41a1c', 'target': 'handian2『经部』十三经注疏春秋公羊传注疏', 'value': 1.8664822047117422}, {'topic': 'T11', 'source': '唐', 'color': '#974fa2', 'target': 'handian2『经部』经学史及小学类周易集解', 'value': 1.8664822047117422}, {'topic': 'T8', 'source': '唐', 'color': '#e41a1c', 'target': 'handian2『经部』十三经注疏周礼注疏', 'value': 1.8664822047117422}, {'topic': 'T18', 'source': '唐', 'color': '#4daf4a', 'target': 'handian2『经部』十三经注疏周礼注疏', 'value': 1.8664822047117422}, {'topic': 'T11', 'source': '唐', 'color': '#974fa2', 'target': 'handian2『经部』十三经注疏周礼注疏', 'value': 1.8664822047117422}, {'topic': 'T11', 'source': '唐', 'color': '#974fa2', 'target': 'handian2『经部』十三经注疏周易正义', 'value': 1.8664822047117422}, {'topic': 'T10', 'source': '唐', 'color': '#4daf4a', 'target': 'handian2『经部』十三经注疏周易正义', 'value': 1.8664822047117422}, {'topic': 'T8', 'source': '唐', 'color': '#e41a1c', 'target': 'handian2『经部』十三经注疏春秋左传正义', 'value': 1.8664822047117422}, {'topic': 'T8', 'source': '唐', 'color': '#e41a1c', 'target': 'handian2『经部』十三经注疏尚书正义', 'value': 1.8664822047117422}, {'topic': 'T9', 'source': '战国', 'color': '#397db6', 'target': 'handian2『经部』十三经尚书', 'value': 1.8664822047117422}, {'topic': 'T8', 'source': '战国', 'color': '#e41a1c', 'target': 'handian2『经部』十三经尚书', 'value': 1.8664822047117422}, {'topic': 'T11', 'source': '战国', 'color': '#974fa2', 'target': 'handian2『经部』经学史及小学类易传', 'value': 1.8664822047117422}, {'topic': 'T11', 'source': '战国', 'color': '#974fa2', 'target': 'handian2『经部』十三经尔雅', 'value': 1.8664822047117422}, {'topic': 'T13', 'source': '战国', 'color': '#fffe33', 'target': 'handian2『经部』十三经诗经', 'value': 1.8664822047117422}, {'topic': 'T9', 'source': '战国', 'color': '#397db6', 'target': 'handian2『经部』十三经诗经', 'value': 1.8664822047117422}, {'topic': 'T18', 'source': '战国', 'color': '#4daf4a', 'target': 'handian2『经部』十三经仪礼', 'value': 1.8664822047117422}, {'topic': 'T19', 'source': '战国', 'color': '#974fa2', 'target': 'handian2『经部』十三经孟子', 'value': 1.8664822047117422}, {'topic': 'T8', 'source': '战国', 'color': '#e41a1c', 'target': 'handian2『经部』十三经孟子', 'value': 1.8664822047117422}, {'topic': 'T11', 'source': '明', 'color': '#974fa2', 'target': 'handian2『经部』经学史及小学类陆氏易解', 'value': 1.8664822047117422}, {'topic': 'T6', 'source': '明', 'color': '#a7572a', 'target': 'handian2『经部』经学史及小学类泰泉乡礼', 'value': 1.8664822047117422}, {'topic': 'T18', 'source': '明', 'color': '#4daf4a', 'target': 'handian2『经部』经学史及小学类泰泉乡礼', 'value': 1.8664822047117422}, {'topic': 'T11', 'source': '春秋', 'color': '#974fa2', 'target': 'handian2『经部』经学史及小学类子夏易传', 'value': 1.8664822047117422}, {'topic': 'T8', 'source': '春秋', 'color': '#e41a1c', 'target': 'handian2『经部』十三经春秋谷梁传', 'value': 1.8664822047117422}, {'topic': 'T8', 'source': '春秋', 'color': '#e41a1c', 'target': 'handian2『经部』十三经春秋公羊传', 'value': 1.8664822047117422}, {'topic': 'T8', 'source': '春秋', 'color': '#e41a1c', 'target': 'handian2『经部』十三经春秋左传', 'value': 1.8664822047117422}, {'topic': 'T19', 'source': '春秋战国', 'color': '#974fa2', 'target': 'handian2『经部』十三经论语', 'value': 1.8664822047117422}, {'topic': 'T8', 'source': '春秋战国', 'color': '#e41a1c', 'target': 'handian2『经部』十三经论语', 'value': 1.8664822047117422}, {'topic': 'T19', 'source': '汉', 'color': '#974fa2', 'target': 'handian2『经部』十三经定州汉墓竹简《论语》', 'value': 1.8664822047117422}, {'topic': 'T10', 'source': '汉', 'color': '#4daf4a', 'target': 'handian2『经部』十三经定州汉墓竹简《论语》', 'value': 1.8664822047117422}, {'topic': 'T8', 'source': '汉', 'color': '#e41a1c', 'target': 'handian2『经部』十三经定州汉墓竹简《论语》', 'value': 1.8664822047117422}, {'topic': 'T10', 'source': '清', 'color': '#4daf4a', 'target': 'handian2『经部』经学史及小学类孟子字义疏证', 'value': 1.8664822047117422}, {'topic': 'T18', 'source': '清', 'color': '#4daf4a', 'target': 'handian2『经部』经学史及小学类深衣考误', 'value': 1.8664822047117422}, {'topic': 'T10', 'source': '秦汉', 'color': '#4daf4a', 'target': 'handian2『经部』十三经孝经', 'value': 1.8664822047117422}, {'topic': 'T11', 'source': '西周', 'color': '#974fa2', 'target': 'handian2『经部』十三经周易', 'value': 1.8664822047117422}, {'topic': 'T11', 'source': '西周', 'color': '#974fa2', 'target': 'handian2『经部』十三经周礼', 'value': 1.8664822047117422}, {'topic': 'T18', 'source': '西周', 'color': '#4daf4a', 'target': 'handian2『经部』十三经周礼', 'value': 1.8664822047117422}, {'topic': 'T19', 'source': '西汉', 'color': '#974fa2', 'target': 'handian2『经部』经学史及小学类大戴礼记', 'value': 1.8664822047117422}, {'topic': 'T18', 'source': '西汉', 'color': '#4daf4a', 'target': 'handian2『经部』十三经礼记', 'value': 1.8664822047117422}, {'topic': 'T8', 'source': '西汉', 'color': '#e41a1c', 'target': 'handian2『经部』十三经礼记', 'value': 1.8664822047117422}, {'topic': 'T19', 'source': '西汉', 'color': '#974fa2', 'target': 'handian2『经部』经学史及小学类韩诗外传', 'value': 1.8664822047117422}, {'topic': 'T8', 'source': '西汉', 'color': '#e41a1c', 'target': 'handian2『经部』经学史及小学类韩诗外传', 'value': 1.8664822047117422}, {'topic': 'T1', 'source': 'T1', 'color': '#397db6', 'target': '南宋', 'value': 1.8664822047117422}, {'topic': 'T6', 'source': 'T6', 'color': '#a7572a', 'target': '明', 'value': 1.8664822047117422}, {'topic': 'T8', 'source': 'T8', 'color': '#e41a1c', 'target': '春秋战国', 'value': 1.8664822047117422}, {'topic': 'T8', 'source': 'T8', 'color': '#e41a1c', 'target': '春秋', 'value': 5.599446614135227}, {'topic': 'T8', 'source': 'T8', 'color': '#e41a1c', 'target': '汉', 'value': 1.8664822047117422}, {'topic': 'T8', 'source': 'T8', 'color': '#e41a1c', 'target': '南宋', 'value': 3.7329644094234844}, {'topic': 'T8', 'source': 'T8', 'color': '#e41a1c', 'target': '北宋', 'value': 7.465928818846969}, {'topic': 'T8', 'source': 'T8', 'color': '#e41a1c', 'target': '唐', 'value': 7.465928818846969}, {'topic': 'T8', 'source': 'T8', 'color': '#e41a1c', 'target': '西汉', 'value': 3.7329644094234844}, {'topic': 'T8', 'source': 'T8', 'color': '#e41a1c', 'target': '战国', 'value': 3.7329644094234844}, {'topic': 'T8', 'source': 'T8', 'color': '#e41a1c', 'target': '东晋', 'value': 1.8664822047117422}, {'topic': 'T8', 'source': 'T8', 'color': '#e41a1c', 'target': '东汉', 'value': 1.8664822047117422}, {'topic': 'T9', 'source': 'T9', 'color': '#397db6', 'target': '战国', 'value': 3.7329644094234844}, {'topic': 'T10', 'source': 'T10', 'color': '#4daf4a', 'target': '三国', 'value': 1.8664822047117422}, {'topic': 'T10', 'source': 'T10', 'color': '#4daf4a', 'target': '汉', 'value': 1.8664822047117422}, {'topic': 'T10', 'source': 'T10', 'color': '#4daf4a', 'target': '南宋', 'value': 7.465928818846969}, {'topic': 'T10', 'source': 'T10', 'color': '#4daf4a', 'target': '北宋', 'value': 1.8664822047117422}, {'topic': 'T10', 'source': 'T10', 'color': '#4daf4a', 'target': '秦汉', 'value': 1.8664822047117422}, {'topic': 'T10', 'source': 'T10', 'color': '#4daf4a', 'target': '唐', 'value': 1.8664822047117422}, {'topic': 'T10', 'source': 'T10', 'color': '#4daf4a', 'target': '清', 'value': 1.8664822047117422}, {'topic': 'T11', 'source': 'T11', 'color': '#974fa2', 'target': '三国', 'value': 3.7329644094234844}, {'topic': 'T11', 'source': 'T11', 'color': '#974fa2', 'target': '春秋', 'value': 1.8664822047117422}, {'topic': 'T11', 'source': 'T11', 'color': '#974fa2', 'target': '南宋', 'value': 1.8664822047117422}, {'topic': 'T11', 'source': 'T11', 'color': '#974fa2', 'target': '西周', 'value': 3.7329644094234844}, {'topic': 'T11', 'source': 'T11', 'color': '#974fa2', 'target': '北宋', 'value': 3.7329644094234844}, {'topic': 'T11', 'source': 'T11', 'color': '#974fa2', 'target': '明', 'value': 1.8664822047117422}, {'topic': 'T11', 'source': 'T11', 'color': '#974fa2', 'target': '唐', 'value': 5.599446614135227}, {'topic': 'T11', 'source': 'T11', 'color': '#974fa2', 'target': '战国', 'value': 3.7329644094234844}, {'topic': 'T13', 'source': 'T13', 'color': '#fffe33', 'target': '战国', 'value': 1.8664822047117422}, {'topic': 'T18', 'source': 'T18', 'color': '#4daf4a', 'target': '西周', 'value': 1.8664822047117422}, {'topic': 'T18', 'source': 'T18', 'color': '#4daf4a', 'target': '北宋', 'value': 1.8664822047117422}, {'topic': 'T18', 'source': 'T18', 'color': '#4daf4a', 'target': '明', 'value': 1.8664822047117422}, {'topic': 'T18', 'source': 'T18', 'color': '#4daf4a', 'target': '唐', 'value': 1.8664822047117422}, {'topic': 'T18', 'source': 'T18', 'color': '#4daf4a', 'target': '西汉', 'value': 1.8664822047117422}, {'topic': 'T18', 'source': 'T18', 'color': '#4daf4a', 'target': '战国', 'value': 1.8664822047117422}, {'topic': 'T18', 'source': 'T18', 'color': '#4daf4a', 'target': '清', 'value': 1.8664822047117422}, {'topic': 'T18', 'source': 'T18', 'color': '#4daf4a', 'target': '东汉', 'value': 1.8664822047117422}, {'topic': 'T19', 'source': 'T19', 'color': '#974fa2', 'target': '春秋战国', 'value': 1.8664822047117422}, {'topic': 'T19', 'source': 'T19', 'color': '#974fa2', 'target': '汉', 'value': 1.8664822047117422}, {'topic': 'T19', 'source': 'T19', 'color': '#974fa2', 'target': '北宋', 'value': 1.8664822047117422}, {'topic': 'T19', 'source': 'T19', 'color': '#974fa2', 'target': '西汉', 'value': 3.7329644094234844}, {'topic': 'T19', 'source': 'T19', 'color': '#974fa2', 'target': '战国', 'value': 1.8664822047117422}]}\n"
     ]
    }
   ],
   "source": [
    "printlist(handian)"
   ]
  },
  {
   "cell_type": "code",
   "execution_count": null,
   "metadata": {
    "collapsed": true
   },
   "outputs": [],
   "source": []
  },
  {
   "cell_type": "code",
   "execution_count": null,
   "metadata": {
    "collapsed": true
   },
   "outputs": [],
   "source": []
  },
  {
   "cell_type": "code",
   "execution_count": null,
   "metadata": {
    "collapsed": true
   },
   "outputs": [],
   "source": []
  },
  {
   "cell_type": "code",
   "execution_count": null,
   "metadata": {
    "collapsed": true
   },
   "outputs": [],
   "source": []
  }
 ],
 "metadata": {
  "anaconda-cloud": {},
  "kernelspec": {
   "display_name": "Python [conda root]",
   "language": "python",
   "name": "conda-root-py"
  },
  "language_info": {
   "codemirror_mode": {
    "name": "ipython",
    "version": 2
   },
   "file_extension": ".py",
   "mimetype": "text/x-python",
   "name": "python",
   "nbconvert_exporter": "python",
   "pygments_lexer": "ipython2",
   "version": "2.7.12"
  }
 },
 "nbformat": 4,
 "nbformat_minor": 0
}
