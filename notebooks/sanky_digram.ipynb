{
 "cells": [
  {
   "cell_type": "code",
   "execution_count": 101,
   "metadata": {
    "collapsed": false,
    "scrolled": false
   },
   "outputs": [],
   "source": [
    "from corpus import *\n",
    "from vsm import *"
   ]
  },
  {
   "cell_type": "code",
   "execution_count": 102,
   "metadata": {
    "collapsed": false
   },
   "outputs": [
    {
     "name": "stdout",
     "output_type": "stream",
     "text": [
      "20\n"
     ]
    }
   ],
   "source": [
    "print topic_range[0]\n",
    "k = topic_range[0]\n",
    "v = lda_v[k]\n",
    "\n",
    "csvpath = 'dynastyof book.csv'\n",
    "jsonpath = 'sankey/multilayer.json'"
   ]
  },
  {
   "cell_type": "code",
   "execution_count": 103,
   "metadata": {
    "collapsed": false
   },
   "outputs": [
    {
     "name": "stdout",
     "output_type": "stream",
     "text": [
      "[['handian2『史部』编年续资治通鉴长编'], 'handian2『集部』别集幽梦影']\n"
     ]
    }
   ],
   "source": [
    "# show characters rather than words\n",
    "\n",
    "\n",
    "example = [[u'handian2\\u300e\\u53f2\\u90e8\\u300f\\u7f16\\u5e74\\u7eed\\u8d44\\u6cbb\\u901a\\u9274\\u957f\\u7f16'],u'handian2\\u300e\\u96c6\\u90e8\\u300f\\u522b\\u96c6\\u5e7d\\u68a6\\u5f71']\n",
    "# example = handian\n",
    "case_list_righ = str(example).replace('u\\'','\\'')\n",
    "print case_list_righ.decode(\"unicode-escape\")\n",
    "\n",
    "def printlist(temp):\n",
    "    example = temp\n",
    "    case_list_righ = str(example).replace('u\\'','\\'')\n",
    "    print case_list_righ.decode(\"unicode-escape\")"
   ]
  },
  {
   "cell_type": "markdown",
   "metadata": {},
   "source": [
    "To change the number of words printed per topic, use the `print_len` argument:"
   ]
  },
  {
   "cell_type": "code",
   "execution_count": 104,
   "metadata": {
    "collapsed": false
   },
   "outputs": [
    {
     "name": "stdout",
     "output_type": "stream",
     "text": [
      "54 54\n"
     ]
    }
   ],
   "source": [
    "folders = set([])\n",
    "for label in v.labels[:]:\n",
    "    folders.add(''.join(label.split('/')[:-1]))\n",
    "folders_dict = dict([])\n",
    "for i in folders:\n",
    "    folders_dict[i] = []\n",
    "\n",
    "count = 0\n",
    "for label in v.labels[:]:\n",
    "    if ''.join(label.split('/')[:-1]) in folders:\n",
    "        temp = ''.join(label.split('/')[:-1])\n",
    "        folders_dict[temp].append(count)\n",
    "    count += 1\n",
    "# printlist(folders_dict)\n",
    "# print count\n",
    "bigfolder = []\n",
    "folders_copy = folders.copy()\n",
    "for a in folders_copy:\n",
    "    if len(folders_dict[a]) <= 80:\n",
    "        folders.remove(a)\n",
    "        folders_dict.pop(a)\n",
    "         \n",
    "print len(folders),len(folders_dict)\n",
    "# printlist(folders_dict)\n"
   ]
  },
  {
   "cell_type": "code",
   "execution_count": 105,
   "metadata": {
    "collapsed": false
   },
   "outputs": [
    {
     "name": "stdout",
     "output_type": "stream",
     "text": [
      "set(['元', '清', 'DK', '南北朝', '南宋', '南齐', '北宋', '五代十国', '民国', '明', '唐', '西汉', '北齐', '战国', '东汉'])\n"
     ]
    }
   ],
   "source": [
    "import csv\n",
    "import json\n",
    "    \n",
    "\n",
    "dynasties_set = set([])\n",
    "csvfile = open(csvpath,'r')\n",
    "jsonfile = open('test.json','w')\n",
    "filednames = ('book','dynasty')\n",
    "reader = csv.DictReader(csvfile,filednames)\n",
    "dynasties = [[row['dynasty'].decode('utf-8'),row['book'].decode('utf-8')] for row in reader][1:]\n",
    "for row in dynasties: \n",
    "    searchword = 'handian2'+ ''.join(row[1].strip(',').split('/'))\n",
    "    try:\n",
    "        folders_dict[searchword]\n",
    "        dynasties_set.add(row[0])\n",
    "    except:\n",
    "        'already delete'\n",
    "printlist(dynasties_set)\n"
   ]
  },
  {
   "cell_type": "code",
   "execution_count": 106,
   "metadata": {
    "collapsed": false
   },
   "outputs": [
    {
     "name": "stdout",
     "output_type": "stream",
     "text": [
      "handian has 20 nodes\n",
      "handian has 35 nodes\n",
      "handian has 89 nodes\n"
     ]
    }
   ],
   "source": [
    "## depth 0\n",
    "\n",
    "handian = dict()\n",
    "handian['nodes']=[]\n",
    "\n",
    "for a in v.aggregate_doc_topics(v.labels[:], normed_sum=True):\n",
    "    temp = dict()\n",
    "    temp['color'] = color.rgb2hex(topic_color[a[0]])\n",
    "    temp['depth'] = 0\n",
    "    temp['name'] = \"T%s\"%a[0]\n",
    "#    temp['weight'] = a[1]\n",
    "    temp['words'] = ', '.join(v.topics()[a[0]][:10]['word'])\n",
    "    handian['nodes'].append(temp)\n",
    "print 'handian has %s nodes'%len(handian['nodes'])\n",
    "# depth 1\n",
    "\n",
    "for a in dynasties_set:\n",
    "    temp = dict()\n",
    "    temp['depth'] = 1\n",
    "    temp['name'] = a\n",
    "    handian['nodes'].append(temp)\n",
    "print 'handian has %s nodes'%len(handian['nodes'])\n",
    "    \n",
    "    \n",
    "# depth 2 folders name  \n",
    "for a in folders:\n",
    "    temp = dict()\n",
    "    temp['depth'] = 2\n",
    "    temp['name'] = a\n",
    "    handian['nodes'].append(temp)\n",
    "print 'handian has %s nodes'%len(handian['nodes'])\n",
    "    \n",
    "# 问题，模型里面计算出来的文件夹只有644个，而csv中有八百多个。初步怀疑是空文件的问题。也可以以模型为准。\n",
    "# print len(folders)\n",
    "# print count1\n",
    "# printlist(handian)"
   ]
  },
  {
   "cell_type": "code",
   "execution_count": 119,
   "metadata": {
    "collapsed": false
   },
   "outputs": [
    {
     "name": "stdout",
     "output_type": "stream",
     "text": [
      "handian has 54 links\n",
      "772\n"
     ]
    }
   ],
   "source": [
    "handian['links']=[]\n",
    "\n",
    "import topicexplorer.lib.color as color\n",
    "topic_color = dict(get_topic_colors(v))\n",
    "\n",
    "csvfile = open(csvpath,'r')\n",
    "jsonfile = open('test.json','w')\n",
    "filednames = ('book','dynasty','year')\n",
    "reader = csv.DictReader(csvfile,filednames)\n",
    "dynasties = [[row['dynasty'].decode('utf-8'),row['book'].decode('utf-8')] for row in reader][1:]\n",
    "count2 = 0\n",
    "for a in dynasties:\n",
    "    # add 'handian2' so that can be the exact index to search\n",
    "    searchword = 'handian2'+ ''.join(a[1].strip(',').split('/'))\n",
    "    try:\n",
    "        index_number = folders_dict[searchword]\n",
    "        for topic in v.aggregate_doc_topics(v.labels[index_number[0]:index_number[-1]+1], normed_sum=True)[:1]:\n",
    "            temp = dict([])\n",
    "            temp['source'] = a[0]\n",
    "            temp['target'] = 'handian2'+''.join(a[1].strip(',').split('/'))\n",
    "            temp['topic'] = 'T%s'%topic[0]\n",
    "            temp['value'] = topic[1]*100\n",
    "            temp['color'] = color.rgb2hex(topic_color[topic[0]])\n",
    "            handian['links'].append(temp)\n",
    "\n",
    "    except:\n",
    "        count2 += 1\n",
    "print 'handian has %s links'%len(handian['links'])\n",
    "print count2"
   ]
  },
  {
   "cell_type": "code",
   "execution_count": 120,
   "metadata": {
    "collapsed": false
   },
   "outputs": [
    {
     "name": "stdout",
     "output_type": "stream",
     "text": [
      "handian has 90 links\n"
     ]
    }
   ],
   "source": [
    "handian_level2 = handian['links']\n",
    "for topic in range(0,100):\n",
    "    for dynasty in dynasties_set:\n",
    "        temp = {'topic':'T%s'%topic,'source':'T%s'%topic,'target':dynasty,'value':0}\n",
    "        for a in handian_level2:\n",
    "            if a['topic']==temp['topic']:\n",
    "                if a['source']==temp['target']:\n",
    "                    temp['value'] = temp['value'] + a['value']\n",
    "                    temp['color'] = color.rgb2hex(topic_color[topic])\n",
    "        \n",
    "        if temp['value'] != 0:\n",
    "            handian['links'].append(temp)\n",
    "print 'handian has %s links'%len(handian['links'])"
   ]
  },
  {
   "cell_type": "code",
   "execution_count": 121,
   "metadata": {
    "collapsed": false
   },
   "outputs": [],
   "source": [
    "# handian['links']=[]\n",
    "\n",
    "\n",
    "# csvfile = open(csvpath,'r')\n",
    "# jsonfile = open('test.json','w')\n",
    "# filednames = ('book','dynasty','year')\n",
    "# reader = csv.DictReader(csvfile,filednames)\n",
    "# dynasties = [[row['dynasty'].decode('utf-8'),row['book'].decode('utf-8')] for row in reader][1:]\n",
    "# count2 = 0\n",
    "# for a in dynasties:\n",
    "# # add 'handian2' so that can be the exact index to search\n",
    "#     searchword = 'handian2'+ ''.join(a[1].strip(',').split('/'))\n",
    "#     temp = dict([])\n",
    "#     temp['source'] = a[0]\n",
    "#     temp['target'] = '/'.join(a[1].strip(',').split('/'))\n",
    "\n",
    "#     try:\n",
    "#         folders_dict[searchword]\n",
    "#         temp['value'] = len(folders_dict[searchword])\n",
    "#         handian['links'].append(temp)\n",
    "#     except:\n",
    "# #         print searchword\n",
    "#         count2 += 1\n",
    "# #         print count2\n",
    "# #         print a[1]\n",
    "        \n",
    "\n"
   ]
  },
  {
   "cell_type": "code",
   "execution_count": 122,
   "metadata": {
    "collapsed": false
   },
   "outputs": [],
   "source": [
    "\n",
    "# print type((handian['nodes'][0]['weight']).item())\n",
    "# for a in handian['nodes']:\n",
    "#     a['weight'] = a['weight'].item()\n",
    "for a in handian['links']:\n",
    "    a['value'] = a['value'].item()\n"
   ]
  },
  {
   "cell_type": "code",
   "execution_count": 123,
   "metadata": {
    "collapsed": false
   },
   "outputs": [],
   "source": [
    "import numpy\n",
    "import json\n",
    "data = handian\n",
    "with open(jsonpath, 'w') as f:\n",
    "    f.write(json.dumps(data))"
   ]
  },
  {
   "cell_type": "code",
   "execution_count": 124,
   "metadata": {
    "collapsed": false
   },
   "outputs": [
    {
     "name": "stdout",
     "output_type": "stream",
     "text": [
      "{'nodes': [{'color': '#4daf4a', 'depth': 0, 'name': 'T2', 'words': '年, 王, 帝, 太, 书, 宗, 元, 时, 文, 国'}, {'color': '#974fa2', 'depth': 0, 'name': 'T19', 'words': '能, 天, 臣, 民, 死, 行, 时, 道, 心, 已'}, {'color': '#e41a1c', 'depth': 0, 'name': 'T16', 'words': '卷, 花, 风, 山, 时, 春, 日, 归, 月, 年'}, {'color': '#fffe33', 'depth': 0, 'name': 'T13', 'words': '山, 金, 风, 日, 诗, 玉, 高, 生, 飞, 光'}, {'color': '#a7572a', 'depth': 0, 'name': 'T14', 'words': '军, 兵, 将, 州, 城, 遣, 战, 贼, 马, 守'}, {'color': '#4daf4a', 'depth': 0, 'name': 'T10', 'words': '心, 道, 生, 理, 学, 物, 能, 天, 处, 明'}, {'color': '#a7572a', 'depth': 0, 'name': 'T6', 'words': '官, 本, 钱, 年, 臣, 日, 百, 路, 州, 司'}, {'color': '#397db6', 'depth': 0, 'name': 'T9', 'words': '德, 阙, 天, 圣, 臣, 心, 道, 将, 神, 明'}, {'color': '#974fa2', 'depth': 0, 'name': 'T11', 'words': '天, 乐, 地, 物, 音, 声, 象, 正, 分, 神'}, {'color': '#fffe33', 'depth': 0, 'name': 'T5', 'words': '气, 服, 热, 水, 病, 黄, 治, 血, 寒, 阳'}, {'color': '#397db6', 'depth': 0, 'name': 'T1', 'words': '卷, 书, 文, 本, 诗, 传, 集, 记, 经, 纪'}, {'color': '#e41a1c', 'depth': 0, 'name': 'T8', 'words': '王, 侯, 国, 齐, 年, 义, 正, 文, 郑, 礼'}, {'color': '#397db6', 'depth': 0, 'name': 'T17', 'words': '县, 州, 南, 东, 山, 西, 里, 水, 年, 北'}, {'color': '#ff8000', 'depth': 0, 'name': 'T12', 'words': '王, 帝, 年, 汉, 国, 太, 侯, 武, 秦, 元'}, {'color': '#f781bf', 'depth': 0, 'name': 'T15', 'words': '军, 将, 史, 刺, 王, 州, 阳, 司, 郡, 魏'}, {'color': '#ff8000', 'depth': 0, 'name': 'T4', 'words': '月, 日, 年, 星, 辰, 度, 壬, 辛, 庚, 甲'}, {'color': '#e41a1c', 'depth': 0, 'name': 'T0', 'words': '官, 司, 部, 郎, 书, 史, 州, 士, 侍, 御'}, {'color': '#f781bf', 'depth': 0, 'name': 'T7', 'words': '师, 法, 佛, 经, 道, 僧, 生, 时, 王, 门'}, {'color': '#4daf4a', 'depth': 0, 'name': 'T18', 'words': '礼, 祭, 服, 庙, 祀, 位, 皇, 拜, 西, 门'}, {'color': '#974fa2', 'depth': 0, 'name': 'T3', 'words': '年, 江, 尔, 督, 总, 兵, 部, 抚, 南, 命'}, {'depth': 1, 'name': '元'}, {'depth': 1, 'name': '清'}, {'depth': 1, 'name': 'DK'}, {'depth': 1, 'name': '南北朝'}, {'depth': 1, 'name': '南宋'}, {'depth': 1, 'name': '南齐'}, {'depth': 1, 'name': '北宋'}, {'depth': 1, 'name': '五代十国'}, {'depth': 1, 'name': '民国'}, {'depth': 1, 'name': '明'}, {'depth': 1, 'name': '唐'}, {'depth': 1, 'name': '西汉'}, {'depth': 1, 'name': '北齐'}, {'depth': 1, 'name': '战国'}, {'depth': 1, 'name': '东汉'}, {'depth': 2, 'name': 'handian2『史部』正史金史'}, {'depth': 2, 'name': 'handian2『史部』编年续资治通鉴长编'}, {'depth': 2, 'name': 'handian2『史部』地理岭外代答'}, {'depth': 2, 'name': 'handian2『史部』正史旧五代史'}, {'depth': 2, 'name': 'handian2『史部』正史魏书'}, {'depth': 2, 'name': 'handian2『集部』总集文忠集'}, {'depth': 2, 'name': 'handian2『史部』正史晋书'}, {'depth': 2, 'name': 'handian2『史部』正史宋书'}, {'depth': 2, 'name': 'handian2『子部』术数三命通会'}, {'depth': 2, 'name': 'handian2『史部』地理读史方舆纪要'}, {'depth': 2, 'name': 'handian2『子部』医家灵枢'}, {'depth': 2, 'name': 'handian2『子部』类书艺文类聚'}, {'depth': 2, 'name': 'handian2『史部』正史史记三家注'}, {'depth': 2, 'name': 'handian2『史部』正史隋书'}, {'depth': 2, 'name': 'handian2『集部』总集古谣谚'}, {'depth': 2, 'name': 'handian2『子部』儒家朱子语类'}, {'depth': 2, 'name': 'handian2『集部』别集陶庵梦忆'}, {'depth': 2, 'name': 'handian2『史部』正史元史'}, {'depth': 2, 'name': 'handian2『史部』正史梁书'}, {'depth': 2, 'name': 'handian2『史部』正史明史'}, {'depth': 2, 'name': 'handian2『史部』正史南齐书'}, {'depth': 2, 'name': 'handian2『子部』兵家练兵实纪'}, {'depth': 2, 'name': 'handian2『史部』政书唐会要'}, {'depth': 2, 'name': 'handian2『史部』编年续资治通鉴'}, {'depth': 2, 'name': 'handian2『集部』总集全后汉文'}, {'depth': 2, 'name': 'handian2『集部』别集苏东坡全集'}, {'depth': 2, 'name': 'handian2『子部』医家医学源流论'}, {'depth': 2, 'name': 'handian2『史部』正史南史'}, {'depth': 2, 'name': 'handian2『史部』别杂史等文献通考'}, {'depth': 2, 'name': 'handian2『集部』总集全晋文'}, {'depth': 2, 'name': 'handian2『史部』编年资治通鉴'}, {'depth': 2, 'name': 'handian2『史部』正史北史'}, {'depth': 2, 'name': 'handian2『集部』总集先秦汉魏晋南北朝诗'}, {'depth': 2, 'name': 'handian2『集部』总集乐府诗集'}, {'depth': 2, 'name': 'handian2『子部』道家老子道德经校释'}, {'depth': 2, 'name': 'handian2『集部』总集全唐诗'}, {'depth': 2, 'name': 'handian2『史部』史评读通鉴论'}, {'depth': 2, 'name': 'handian2『史部』正史新唐书'}, {'depth': 2, 'name': 'handian2『史部』正史清史稿'}, {'depth': 2, 'name': 'handian2『集部』词全宋词'}, {'depth': 2, 'name': 'handian2『子部』道家云笈七签'}, {'depth': 2, 'name': 'handian2『集部』总集全唐文'}, {'depth': 2, 'name': 'handian2『史部』正史宋史'}, {'depth': 2, 'name': 'handian2『集部』别集栾城集'}, {'depth': 2, 'name': 'handian2『史部』正史旧唐书'}, {'depth': 2, 'name': 'handian2『史部』政书通典'}, {'depth': 2, 'name': 'handian2『子部』释家法苑珠林'}, {'depth': 2, 'name': 'handian2『史部』正史汉书'}, {'depth': 2, 'name': 'handian2『史部』正史辽史'}, {'depth': 2, 'name': 'handian2『史部』正史后汉书'}, {'depth': 2, 'name': 'handian2『史部』纪事本末三朝北盟会编'}, {'depth': 2, 'name': 'handian2『子部』法家棠阴比事'}, {'depth': 2, 'name': 'handian2『史部』正史史记'}, {'depth': 2, 'name': 'handian2『子部』兵家太白阴经'}], 'links': [{'topic': 'T16', 'source': 'DK', 'color': '#e41a1c', 'target': 'handian2『集部』词全宋词', 'value': 75.18065571784973}, {'topic': 'T13', 'source': 'DK', 'color': '#fffe33', 'target': 'handian2『集部』总集乐府诗集', 'value': 35.425394773483276}, {'topic': 'T1', 'source': 'DK', 'color': '#397db6', 'target': 'handian2『集部』总集古谣谚', 'value': 22.251059114933014}, {'topic': 'T13', 'source': 'DK', 'color': '#fffe33', 'target': 'handian2『集部』总集先秦汉魏晋南北朝诗', 'value': 38.14103305339813}, {'topic': 'T2', 'source': 'DK', 'color': '#4daf4a', 'target': 'handian2『集部』总集全后汉文', 'value': 18.675245344638824}, {'topic': 'T2', 'source': 'DK', 'color': '#4daf4a', 'target': 'handian2『集部』总集全晋文', 'value': 25.85291564464569}, {'topic': 'T16', 'source': 'DK', 'color': '#e41a1c', 'target': 'handian2『集部』总集全唐诗', 'value': 52.77625918388367}, {'topic': 'T9', 'source': 'DK', 'color': '#397db6', 'target': 'handian2『集部』总集全唐文', 'value': 26.408031582832336}, {'topic': 'T2', 'source': 'DK', 'color': '#4daf4a', 'target': 'handian2『集部』总集文忠集', 'value': 26.03224217891693}, {'topic': 'T1', 'source': 'DK', 'color': '#397db6', 'target': 'handian2『子部』道家老子道德经校释', 'value': 46.52961492538452}, {'topic': 'T12', 'source': '东汉', 'color': '#ff8000', 'target': 'handian2『史部』正史汉书', 'value': 33.16015899181366}, {'topic': 'T2', 'source': '五代十国', 'color': '#4daf4a', 'target': 'handian2『史部』正史旧唐书', 'value': 43.89568567276001}, {'topic': 'T2', 'source': '元', 'color': '#4daf4a', 'target': 'handian2『史部』别杂史等文献通考', 'value': 18.898217380046844}, {'topic': 'T2', 'source': '元', 'color': '#4daf4a', 'target': 'handian2『史部』正史宋史', 'value': 30.573377013206482}, {'topic': 'T2', 'source': '元', 'color': '#4daf4a', 'target': 'handian2『史部』正史辽史', 'value': 32.86333680152893}, {'topic': 'T2', 'source': '元', 'color': '#4daf4a', 'target': 'handian2『史部』正史金史', 'value': 30.076327919960022}, {'topic': 'T12', 'source': '北宋', 'color': '#ff8000', 'target': 'handian2『史部』正史史记三家注', 'value': 30.929526686668396}, {'topic': 'T2', 'source': '北宋', 'color': '#4daf4a', 'target': 'handian2『史部』正史旧五代史', 'value': 46.235257387161255}, {'topic': 'T2', 'source': '北宋', 'color': '#4daf4a', 'target': 'handian2『史部』政书唐会要', 'value': 42.154461145401}, {'topic': 'T19', 'source': '北宋', 'color': '#974fa2', 'target': 'handian2『集部』别集栾城集', 'value': 29.52445149421692}, {'topic': 'T19', 'source': '北宋', 'color': '#974fa2', 'target': 'handian2『集部』别集苏东坡全集', 'value': 21.251870691776276}, {'topic': 'T2', 'source': '北宋', 'color': '#4daf4a', 'target': 'handian2『史部』编年资治通鉴', 'value': 29.367616772651672}, {'topic': 'T7', 'source': '北宋', 'color': '#f781bf', 'target': 'handian2『子部』道家云笈七签', 'value': 19.55624222755432}, {'topic': 'T2', 'source': '北宋', 'color': '#4daf4a', 'target': 'handian2『史部』正史新唐书', 'value': 35.95219552516937}, {'topic': 'T2', 'source': '北齐', 'color': '#4daf4a', 'target': 'handian2『史部』正史魏书', 'value': 37.751707434654236}, {'topic': 'T2', 'source': '南北朝', 'color': '#4daf4a', 'target': 'handian2『史部』正史南齐书', 'value': 33.83622467517853}, {'topic': 'T2', 'source': '南北朝', 'color': '#4daf4a', 'target': 'handian2『史部』正史后汉书', 'value': 21.267779171466827}, {'topic': 'T14', 'source': '南宋', 'color': '#a7572a', 'target': 'handian2『史部』纪事本末三朝北盟会编', 'value': 27.07967758178711}, {'topic': 'T6', 'source': '南宋', 'color': '#a7572a', 'target': 'handian2『史部』编年续资治通鉴长编', 'value': 38.1546676158905}, {'topic': 'T10', 'source': '南宋', 'color': '#4daf4a', 'target': 'handian2『子部』儒家朱子语类', 'value': 70.05566358566284}, {'topic': 'T19', 'source': '南宋', 'color': '#974fa2', 'target': 'handian2『子部』法家棠阴比事', 'value': 30.67432940006256}, {'topic': 'T5', 'source': '南宋', 'color': '#fffe33', 'target': 'handian2『史部』地理岭外代答', 'value': 16.69505089521408}, {'topic': 'T2', 'source': '南齐', 'color': '#4daf4a', 'target': 'handian2『史部』正史宋书', 'value': 29.982566833496094}, {'topic': 'T18', 'source': '唐', 'color': '#4daf4a', 'target': 'handian2『史部』政书通典', 'value': 24.165675044059753}, {'topic': 'T7', 'source': '唐', 'color': '#f781bf', 'target': 'handian2『子部』释家法苑珠林', 'value': 66.128408908844}, {'topic': 'T2', 'source': '唐', 'color': '#4daf4a', 'target': 'handian2『史部』正史南史', 'value': 44.81328725814819}, {'topic': 'T2', 'source': '唐', 'color': '#4daf4a', 'target': 'handian2『史部』正史北史', 'value': 46.67978584766388}, {'topic': 'T2', 'source': '唐', 'color': '#4daf4a', 'target': 'handian2『史部』正史晋书', 'value': 27.163007855415344}, {'topic': 'T2', 'source': '唐', 'color': '#4daf4a', 'target': 'handian2『史部』正史梁书', 'value': 38.68909180164337}, {'topic': 'T2', 'source': '唐', 'color': '#4daf4a', 'target': 'handian2『史部』正史隋书', 'value': 34.20742750167847}, {'topic': 'T13', 'source': '唐', 'color': '#fffe33', 'target': 'handian2『子部』类书艺文类聚', 'value': 33.42963457107544}, {'topic': 'T14', 'source': '唐', 'color': '#a7572a', 'target': 'handian2『子部』兵家太白阴经', 'value': 19.541452825069427}, {'topic': 'T5', 'source': '战国', 'color': '#fffe33', 'target': 'handian2『子部』医家灵枢', 'value': 72.84430265426636}, {'topic': 'T6', 'source': '明', 'color': '#a7572a', 'target': 'handian2『子部』兵家练兵实纪', 'value': 21.057115495204926}, {'topic': 'T4', 'source': '明', 'color': '#ff8000', 'target': 'handian2『子部』术数三命通会', 'value': 61.079949140548706}, {'topic': 'T2', 'source': '明', 'color': '#4daf4a', 'target': 'handian2『史部』正史元史', 'value': 21.638748049736023}, {'topic': 'T16', 'source': '明', 'color': '#e41a1c', 'target': 'handian2『集部』别集陶庵梦忆', 'value': 39.14186656475067}, {'topic': 'T3', 'source': '民国', 'color': '#974fa2', 'target': 'handian2『史部』正史清史稿', 'value': 39.359307289123535}, {'topic': 'T2', 'source': '清', 'color': '#4daf4a', 'target': 'handian2『史部』编年续资治通鉴', 'value': 38.732144236564636}, {'topic': 'T5', 'source': '清', 'color': '#fffe33', 'target': 'handian2『子部』医家医学源流论', 'value': 52.14759111404419}, {'topic': 'T2', 'source': '清', 'color': '#4daf4a', 'target': 'handian2『史部』正史明史', 'value': 30.174189805984497}, {'topic': 'T19', 'source': '清', 'color': '#974fa2', 'target': 'handian2『史部』史评读通鉴论', 'value': 51.229119300842285}, {'topic': 'T17', 'source': '清', 'color': '#397db6', 'target': 'handian2『史部』地理读史方舆纪要', 'value': 70.43346762657166}, {'topic': 'T12', 'source': '西汉', 'color': '#ff8000', 'target': 'handian2『史部』正史史记', 'value': 36.5725576877594}, {'topic': 'T1', 'source': 'T1', 'color': '#397db6', 'target': 'DK', 'value': 68.78067404031754}, {'topic': 'T2', 'source': 'T2', 'color': '#4daf4a', 'target': '元', 'value': 112.41125911474228}, {'topic': 'T2', 'source': 'T2', 'color': '#4daf4a', 'target': '清', 'value': 68.90633404254913}, {'topic': 'T2', 'source': 'T2', 'color': '#4daf4a', 'target': 'DK', 'value': 70.56040316820145}, {'topic': 'T2', 'source': 'T2', 'color': '#4daf4a', 'target': '南北朝', 'value': 55.104003846645355}, {'topic': 'T2', 'source': 'T2', 'color': '#4daf4a', 'target': '南齐', 'value': 29.982566833496094}, {'topic': 'T2', 'source': 'T2', 'color': '#4daf4a', 'target': '北宋', 'value': 153.7095308303833}, {'topic': 'T2', 'source': 'T2', 'color': '#4daf4a', 'target': '五代十国', 'value': 43.89568567276001}, {'topic': 'T2', 'source': 'T2', 'color': '#4daf4a', 'target': '明', 'value': 21.638748049736023}, {'topic': 'T2', 'source': 'T2', 'color': '#4daf4a', 'target': '唐', 'value': 191.55260026454926}, {'topic': 'T2', 'source': 'T2', 'color': '#4daf4a', 'target': '北齐', 'value': 37.751707434654236}, {'topic': 'T3', 'source': 'T3', 'color': '#974fa2', 'target': '民国', 'value': 39.359307289123535}, {'topic': 'T4', 'source': 'T4', 'color': '#ff8000', 'target': '明', 'value': 61.079949140548706}, {'topic': 'T5', 'source': 'T5', 'color': '#fffe33', 'target': '清', 'value': 52.14759111404419}, {'topic': 'T5', 'source': 'T5', 'color': '#fffe33', 'target': '南宋', 'value': 16.69505089521408}, {'topic': 'T5', 'source': 'T5', 'color': '#fffe33', 'target': '战国', 'value': 72.84430265426636}, {'topic': 'T6', 'source': 'T6', 'color': '#a7572a', 'target': '南宋', 'value': 38.1546676158905}, {'topic': 'T6', 'source': 'T6', 'color': '#a7572a', 'target': '明', 'value': 21.057115495204926}, {'topic': 'T7', 'source': 'T7', 'color': '#f781bf', 'target': '北宋', 'value': 19.55624222755432}, {'topic': 'T7', 'source': 'T7', 'color': '#f781bf', 'target': '唐', 'value': 66.128408908844}, {'topic': 'T9', 'source': 'T9', 'color': '#397db6', 'target': 'DK', 'value': 26.408031582832336}, {'topic': 'T10', 'source': 'T10', 'color': '#4daf4a', 'target': '南宋', 'value': 70.05566358566284}, {'topic': 'T12', 'source': 'T12', 'color': '#ff8000', 'target': '北宋', 'value': 30.929526686668396}, {'topic': 'T12', 'source': 'T12', 'color': '#ff8000', 'target': '西汉', 'value': 36.5725576877594}, {'topic': 'T12', 'source': 'T12', 'color': '#ff8000', 'target': '东汉', 'value': 33.16015899181366}, {'topic': 'T13', 'source': 'T13', 'color': '#fffe33', 'target': 'DK', 'value': 73.56642782688141}, {'topic': 'T13', 'source': 'T13', 'color': '#fffe33', 'target': '唐', 'value': 33.42963457107544}, {'topic': 'T14', 'source': 'T14', 'color': '#a7572a', 'target': '南宋', 'value': 27.07967758178711}, {'topic': 'T14', 'source': 'T14', 'color': '#a7572a', 'target': '唐', 'value': 19.541452825069427}, {'topic': 'T16', 'source': 'T16', 'color': '#e41a1c', 'target': 'DK', 'value': 127.9569149017334}, {'topic': 'T16', 'source': 'T16', 'color': '#e41a1c', 'target': '明', 'value': 39.14186656475067}, {'topic': 'T17', 'source': 'T17', 'color': '#397db6', 'target': '清', 'value': 70.43346762657166}, {'topic': 'T18', 'source': 'T18', 'color': '#4daf4a', 'target': '唐', 'value': 24.165675044059753}, {'topic': 'T19', 'source': 'T19', 'color': '#974fa2', 'target': '清', 'value': 51.229119300842285}, {'topic': 'T19', 'source': 'T19', 'color': '#974fa2', 'target': '南宋', 'value': 30.67432940006256}, {'topic': 'T19', 'source': 'T19', 'color': '#974fa2', 'target': '北宋', 'value': 50.776322185993195}]}\n"
     ]
    }
   ],
   "source": [
    "printlist(handian)"
   ]
  },
  {
   "cell_type": "markdown",
   "metadata": {},
   "source": [
    "#### `v.doc_topics(doc_or_docs)`\n",
    "Each document-topic distribution can be examined with `v.doc_topics()`, which takes as its argument either a single label or a list of labels. Below we view the distribution for the first 3 documents."
   ]
  },
  {
   "cell_type": "code",
   "execution_count": 30,
   "metadata": {
    "collapsed": false
   },
   "outputs": [
    {
     "name": "stdout",
     "output_type": "stream",
     "text": [
      "[{'color': '#a7572a', 'depth': 0, 'name': 'T2'}, {'color': '#a7572a', 'depth': 0, 'name': 'T19'}, {'color': '#a7572a', 'depth': 0, 'name': 'T16'}, {'color': '#a7572a', 'depth': 0, 'name': 'T13'}, {'color': '#a7572a', 'depth': 0, 'name': 'T14'}, {'color': '#a7572a', 'depth': 1, 'name': u'\\u5317\\u9f50'}, {'color': '#a7572a', 'depth': 1, 'name': u'\\u5317\\u5b8b'}, {'color': '#a7572a', 'depth': 1, 'name': u'\\u660e'}, {'color': '#a7572a', 'depth': 1, 'name': u'\\u5510'}, {'color': '#a7572a', 'depth': 1, 'name': u'\\u4e1c\\u9b4f'}, {'color': '#a7572a', 'depth': 1, 'name': u'\\u5510\\u672b'}, {'color': '#a7572a', 'depth': 2, 'name': u'handian2\\u300e\\u5b50\\u90e8\\u300f\\u827a\\u672f\\u8c61\\u68cb\\u6307\\u5f52'}, {'color': '#a7572a', 'depth': 2, 'name': u'handian2\\u300e\\u5b50\\u90e8\\u300f\\u6742\\u5bb6\\u660e\\u5b63\\u4e09\\u671d\\u91ce\\u53f2'}, {'color': '#a7572a', 'depth': 2, 'name': u'handian2\\u300e\\u53f2\\u90e8\\u300f\\u76ee\\u5f55\\u540d\\u5bb6\\u63a8\\u8350\\u7684\\u56fd\\u5b66\\u4e66\\u76ee'}, {'color': '#a7572a', 'depth': 2, 'name': u'handian2\\u300e\\u96c6\\u90e8\\u300f\\u522b\\u96c6\\u5e7d\\u68a6\\u5f71'}, {'color': '#a7572a', 'depth': 2, 'name': u'handian2\\u300e\\u5b50\\u90e8\\u300f\\u5112\\u5bb6\\u5357\\u8be2\\u5f55'}]\n"
     ]
    }
   ],
   "source": [
    "print handian['nodes'][:5]+handian['nodes'][24:30]+handian['nodes'][-5:]"
   ]
  },
  {
   "cell_type": "code",
   "execution_count": 31,
   "metadata": {
    "collapsed": false,
    "scrolled": true
   },
   "outputs": [
    {
     "name": "stdout",
     "output_type": "stream",
     "text": [
      "[{'color': '#a7572a', 'depth': 1, 'name': u'\\u5317\\u9f50'}, {'color': '#a7572a', 'depth': 1, 'name': u'\\u5317\\u5b8b'}, {'color': '#a7572a', 'depth': 1, 'name': u'\\u660e'}, {'color': '#a7572a', 'depth': 1, 'name': u'\\u5510'}, {'color': '#a7572a', 'depth': 1, 'name': u'\\u4e1c\\u9b4f'}, {'color': '#a7572a', 'depth': 1, 'name': u'\\u5510\\u672b'}]\n"
     ]
    }
   ],
   "source": [
    "print handian['nodes'][24:30]"
   ]
  },
  {
   "cell_type": "code",
   "execution_count": 32,
   "metadata": {
    "collapsed": false
   },
   "outputs": [
    {
     "name": "stdout",
     "output_type": "stream",
     "text": [
      "[{'color': '#a7572a', 'depth': 2, 'name': u'handian2\\u300e\\u5b50\\u90e8\\u300f\\u827a\\u672f\\u8c61\\u68cb\\u6307\\u5f52'}, {'color': '#a7572a', 'depth': 2, 'name': u'handian2\\u300e\\u5b50\\u90e8\\u300f\\u6742\\u5bb6\\u660e\\u5b63\\u4e09\\u671d\\u91ce\\u53f2'}, {'color': '#a7572a', 'depth': 2, 'name': u'handian2\\u300e\\u53f2\\u90e8\\u300f\\u76ee\\u5f55\\u540d\\u5bb6\\u63a8\\u8350\\u7684\\u56fd\\u5b66\\u4e66\\u76ee'}, {'color': '#a7572a', 'depth': 2, 'name': u'handian2\\u300e\\u96c6\\u90e8\\u300f\\u522b\\u96c6\\u5e7d\\u68a6\\u5f71'}, {'color': '#a7572a', 'depth': 2, 'name': u'handian2\\u300e\\u5b50\\u90e8\\u300f\\u5112\\u5bb6\\u5357\\u8be2\\u5f55'}]\n"
     ]
    }
   ],
   "source": [
    "print handian['nodes'][-5:]"
   ]
  },
  {
   "cell_type": "markdown",
   "metadata": {},
   "source": [
    "#### `v.aggregate_doc_topics(doc_or_docs, normed_sum=False)`\n",
    "While `v.doc_topics(doc_or_docs)` shows the distribution for each document, `v.aggregate_doc_topics()` shows the average distribution of a collection of documents. The `normed` argument tells the program whether to weight each document by its length (`normed_sum=True`) or to consider them all equally (`normed_sum=False`)."
   ]
  }
 ],
 "metadata": {
  "anaconda-cloud": {},
  "kernelspec": {
   "display_name": "Python [conda root]",
   "language": "python",
   "name": "conda-root-py"
  },
  "language_info": {
   "codemirror_mode": {
    "name": "ipython",
    "version": 2
   },
   "file_extension": ".py",
   "mimetype": "text/x-python",
   "name": "python",
   "nbconvert_exporter": "python",
   "pygments_lexer": "ipython2",
   "version": "2.7.12"
  }
 },
 "nbformat": 4,
 "nbformat_minor": 0
}
