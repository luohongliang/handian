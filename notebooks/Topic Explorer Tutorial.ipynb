{
 "cells": [
  {
   "cell_type": "markdown",
   "metadata": {},
   "source": [
    "# Topic Explorer Notebook Tutorial\n",
    "\n",
    "The InPhO Topic Explorer features a powerful interactive coding environment that enables direct manipulation of the corpus and models, in contrast to the web visualization.\n",
    "\n",
    "When you run the `vsm notebook` command, several things happen:\n",
    "1.  The Topic Explorer creates a new folder called `notebooks` and places several files inside it:\n",
    "     -  **corpus.py** contains Python code which imports the Corpus object and a function that will load models trained on your corpus. It gathers this information from your `CORPUS.ini` file, where `CORPUS` is the name of the folder you prepared. More information on this special file is below.\n",
    "     -  **Topic Explorer Tutorial.ipynb** is this file, which provides the skeleton documentation for interacting with the models.\n",
    "     -  Other **ipynb** files, containing analyses that can be re-run on your own corpora.\n",
    "2.  The Topic Explorer launches a [Jupyter Notebook](http://jupyter.org/). This allows you to program in Python on your local computer using the browser, rather than a terminal or other program. "
   ]
  },
  {
   "cell_type": "markdown",
   "metadata": {},
   "source": [
    "## Introducing Jupyter\n",
    "If you look in the address bar of your browser, it should start with something like `localhost:8888/notebooks/Topic%20Explorer%20Tutorial.ipynb`. If you open a new tab or browser window and type in `localhost:8888` you will open the same list of files and be able to edit multiple files at once. Note that editing the same file in multiple tabs may cause you to accidentally overwrite your data. Jupyter does not check if the file is already open.\n",
    "\n",
    "Also, note that if the first portion of the url (`localhost:8888`) is different, you will need to enter what it says on your computer to open a new tab. Most likely the \"port number\" (`8888`) will be different, and may indicate you have a second instance of `vsm notebook` or another Jupyter Notebook server running.\n",
    "\n",
    "\n",
    "### Running Cells\n",
    "The Jupyter notebook operates through individual *cells* that run Python code. To run a cell press the \"run cell\" (play) button or select the cell by clicking on it, then select in the Jupyter menu \"Cell > Run Cells\".\n",
    "\n",
    "Try running the cell below:"
   ]
  },
  {
   "cell_type": "code",
   "execution_count": null,
   "metadata": {
    "collapsed": false
   },
   "outputs": [],
   "source": [
    "print \"Hello world!\""
   ]
  },
  {
   "cell_type": "markdown",
   "metadata": {},
   "source": [
    "Immediately below the cell, the `Hello world!` should be printed, and to the left of the cell it should say `In [1]:`.\n",
    "\n",
    "#### A note on kernels and brackets\n",
    "If the number `[1]` is different, nothing is wrong, so long as there is a number printed.\n",
    "\n",
    "The number in brackets (`[1]`) counts the number of times you have run a cell in this notebook session. A notebook session is tied to a *kernel*. The kernel runs the Python code. If you wish to reset the numbers and run your code step-by-step, starting from `[1]` again, go to the menu and select \"Kernel > Restart & Run All\".\n",
    "\n",
    "If the number appears as `In [*]:` that means that the cell is currently running. When it changes to a number (`[2]`), then the files have completed importing.\n",
    "\n",
    "If you feel this is taking an absurdly long time to load (in excess of a few seconds), please press the stop button and notify the package developers. There might be a bug in the modeling software."
   ]
  },
  {
   "cell_type": "markdown",
   "metadata": {},
   "source": [
    "### Errors and Debugging\n",
    "Each cell automatically calls `print` on the last line of the cell. Run the cell below to see an example:"
   ]
  },
  {
   "cell_type": "code",
   "execution_count": null,
   "metadata": {
    "collapsed": false
   },
   "outputs": [],
   "source": [
    "10"
   ]
  },
  {
   "cell_type": "markdown",
   "metadata": {},
   "source": [
    "Let's use this to print `Hello world!` once again:"
   ]
  },
  {
   "cell_type": "code",
   "execution_count": null,
   "metadata": {
    "collapsed": false
   },
   "outputs": [],
   "source": [
    "Hello world!"
   ]
  },
  {
   "cell_type": "markdown",
   "metadata": {},
   "source": [
    "**D'oh!** This should have raised a `SyntaxError: invalid syntax`.\n",
    "\n",
    "Note the message `File \"<ipython-input-5-59ca0efa9f56>\", line 1` (the portion after `ipython-input` may be different). This tells you which line in the program errored. If you have errors in more advanced code, the line number will be very helpful in diagnosing the problem.\n",
    "\n",
    "For now, change the cell above to `\"Hello world!\"` and run again to get the proper output."
   ]
  },
  {
   "cell_type": "markdown",
   "metadata": {},
   "source": [
    "## Importing `corpus.py`\n",
    "Now that you know how to run a cell, we can begin interacting with the topic models. First we will import your corpus objects. Select and run the cell below:"
   ]
  },
  {
   "cell_type": "code",
   "execution_count": 1,
   "metadata": {
    "collapsed": false
   },
   "outputs": [
    {
     "name": "stdout",
     "output_type": "stream",
     "text": [
      "Running from notebook, using serial load function.\n",
      "[20, 40, 60, 80, 100]\n",
      "/home/hongliang/inpho/handian/models/handian2-freq5-freq2-N23231312-LDA-K{0}-document-1000.npz\n"
     ]
    }
   ],
   "source": [
    "from corpus import *"
   ]
  },
  {
   "cell_type": "markdown",
   "metadata": {},
   "source": [
    "You will now have access to several variables, the most important of which are:\n",
    " -  `c` -- The `vsm.Corpus` object\n",
    " -  `lda_v` -- A dictionary containing each of the `vsm.LdaViewer` instances. You can access a particular model with `lda_v[k]`, substituting k for a particular number, like `lda_v[20]` for the 20-topic model. If the model for that number of topics has not been trained, it will error.\n",
    " -  `topic_range` -- A list of the trained models (e.g., `[20, 40, 60, 80]`)\n",
    " -  `context_type` -- A string containing the particular context type modeled (e.g., `\"sentence\"`, `\"document\"`, `\"article\"`)"
   ]
  },
  {
   "cell_type": "markdown",
   "metadata": {},
   "source": [
    "### Introducing the `vsm` module\n",
    "\n",
    "The InPhO Topic Explorer is comprised of two modules:\n",
    "1. The `topicexplorer` module contains code for the visualization and user interfaces.\n",
    "2. The `vsm` module contains code for modeling differnet corpora. \n",
    "\n",
    "In order to make use of the term frequency (TF), term frequency-inverse document frequency (TfIdf), and latent semantic analysis (LSA) models, we must import the main vsm module:"
   ]
  },
  {
   "cell_type": "code",
   "execution_count": 2,
   "metadata": {
    "collapsed": true
   },
   "outputs": [],
   "source": [
    "from vsm import *"
   ]
  },
  {
   "cell_type": "markdown",
   "metadata": {},
   "source": [
    "## Interacting with the Corpus: Term Frequencies"
   ]
  },
  {
   "cell_type": "markdown",
   "metadata": {},
   "source": [
    "The command above has loaded your `Corpus` object into the `c` variable. You can see the list of all words that are in your corpus by typing `c.words` into a code cell:"
   ]
  },
  {
   "cell_type": "code",
   "execution_count": 3,
   "metadata": {
    "collapsed": false
   },
   "outputs": [
    {
     "data": {
      "text/plain": [
       "array([u'\\xa4', u'\\xa7', u'\\xa8', ..., u'\\uff5c', u'\\uff5d', u'\\uff5e'], dtype=object)"
      ]
     },
     "execution_count": 3,
     "metadata": {},
     "output_type": "execute_result"
    }
   ],
   "source": [
    "c.words"
   ]
  },
  {
   "cell_type": "markdown",
   "metadata": {},
   "source": [
    "Note that it only shows the first few and last few unique words in the corpus, alphabetically sorted. \n",
    "\n",
    "What if we want to get a list of how often each word occurs? For that, we can use the `vsm.model.TF` to build a frequency distribution over the terms in the corpus:"
   ]
  },
  {
   "cell_type": "code",
   "execution_count": 4,
   "metadata": {
    "collapsed": false
   },
   "outputs": [
    {
     "data": {
      "text/html": [
       "<table style=\"margin: 0\"><tr><th style=\"text-align: center; background: #CEE3F6\" colspan                    =\"4\">Collection Frequencies</th></tr><tr><th style=\"text-align: center; background: #EFF2FB; \">Word                    </th><th style=\"text-align: center; background: #EFF2FB; \">Counts                    </th><th style=\"text-align: center; background: #EFF2FB; \">Word                    </th><th style=\"text-align: center; background: #EFF2FB; \">Counts                    </th></tr><tr><td>年                          </td><td>501196                     </td><td>南                          </td><td>273696                     </td></tr><tr><td>王                          </td><td>410631                     </td><td>将                          </td><td>272349                     </td></tr><tr><td>州                          </td><td>383224                     </td><td>行                          </td><td>272075                     </td></tr><tr><td>天                          </td><td>367499                     </td><td>国                          </td><td>257069                     </td></tr><tr><td>月                          </td><td>330868                     </td><td>山                          </td><td>256549                     </td></tr><tr><td>日                          </td><td>316454                     </td><td>官                          </td><td>245958                     </td></tr><tr><td>书                          </td><td>309290                     </td><td>道                          </td><td>245572                     </td></tr><tr><td>军                          </td><td>295896                     </td><td>百                          </td><td>242402                     </td></tr><tr><td>时                          </td><td>294532                     </td><td>臣                          </td><td>241921                     </td></tr><tr><td>文                          </td><td>277990                     </td><td>东                          </td><td>235142                     </td></tr></table>"
      ],
      "text/plain": [
       "LabeledColumn([(u'\\u5e74', 501196), (u'\\u738b', 410631), (u'\\u5dde', 383224), ...,\n",
       "       (u'\\u8858',      6), (u'\\u5ccd',      6), (u'\\u8625',      6)], \n",
       "      dtype=[('word', '<U4'), ('value', '<i8')])"
      ]
     },
     "execution_count": 4,
     "metadata": {},
     "output_type": "execute_result"
    }
   ],
   "source": [
    "# train the model and create a TfViewer object\n",
    "tf = TF(c, context_type)\n",
    "tf.train()\n",
    "tf_v = TfViewer(c, tf)\n",
    "\n",
    "# print the most frequent terms in the document\n",
    "# remember that IPython automatically prints the last cell of a document\n",
    "tf_v.coll_freqs()"
   ]
  },
  {
   "cell_type": "markdown",
   "metadata": {},
   "source": [
    "After running the cell above, you should see a table with the 20 most frequently used words."
   ]
  },
  {
   "cell_type": "markdown",
   "metadata": {
    "collapsed": true
   },
   "source": [
    "## Interacting with Topic Models\n",
    "\n",
    "The InPhO Topic Explorer doesn't just work with term frequencies though - it creates LDA topic models. Through the notebook interface these models can be powerfully manipulated to produce new analyses.\n",
    "\n",
    "First, let's select a primary model to investigate, and load it into the variable `v`:"
   ]
  },
  {
   "cell_type": "code",
   "execution_count": 5,
   "metadata": {
    "collapsed": false
   },
   "outputs": [
    {
     "name": "stdout",
     "output_type": "stream",
     "text": [
      "20\n",
      "Loading LDA data from /home/hongliang/inpho/handian/models/handian2-freq5-freq2-N23231312-LDA-K20-document-1000.npz\n"
     ]
    }
   ],
   "source": [
    "# print the number of topics in the first model\n",
    "print topic_range[0]\n",
    "# remember that list indexes start with 0 not 1!\n",
    "\n",
    "# replace 'topic_range[0]' with a specific number, if you like\n",
    "k = topic_range[0]\n",
    "\n",
    "# load the topic model\n",
    "v = lda_v[k]"
   ]
  },
  {
   "cell_type": "markdown",
   "metadata": {},
   "source": [
    "The above code loads the first topic model into a viewer object. We have used the `topic_range[0]` instead of simply stating a number so that this same demo notebook will work with any model settings you've prepared. This portability enables us to write analyses that can be replicated across any corpus, and is one of the real strengths of using the `from corpus import *` model of coding your notebooks. If others are using the Topic Explorer to generate their objects, they can run the exact same analysis on different corpora, so long as the variable names are consistent"
   ]
  },
  {
   "cell_type": "markdown",
   "metadata": {},
   "source": [
    "### `v.topics()`\n",
    "First, lets print a list of topics:"
   ]
  },
  {
   "cell_type": "code",
   "execution_count": 6,
   "metadata": {
    "collapsed": false
   },
   "outputs": [
    {
     "data": {
      "text/html": [
       "<table style=\"margin: 0\"><tr><th style=\"text-align: center; background: #CEE3F6\" colspan            =\"11\">Topics Sorted by Index</th></tr><tr><th style=\"text-align: center; background: #EFF2FB;\"                  >Topic</th><th style=\"text-align: center; background: #EFF2FB;\"                  >Words</th></tr><tr><td style=\"padding-left:0.75em;\">Topic 0</td><td> 官, 司, 部, 郎, 书, 史, 州, 士, 侍, 御           </td></tr><tr><td style=\"padding-left:0.75em;\">Topic 1</td><td> 卷, 书, 文, 本, 诗, 传, 集, 记, 经, 纪           </td></tr><tr><td style=\"padding-left:0.75em;\">Topic 2</td><td> 年, 王, 帝, 太, 书, 宗, 元, 时, 文, 国           </td></tr><tr><td style=\"padding-left:0.75em;\">Topic 3</td><td> 年, 江, 尔, 督, 总, 兵, 部, 抚, 南, 命           </td></tr><tr><td style=\"padding-left:0.75em;\">Topic 4</td><td> 月, 日, 年, 星, 辰, 度, 壬, 辛, 庚, 甲           </td></tr><tr><td style=\"padding-left:0.75em;\">Topic 5</td><td> 气, 服, 热, 水, 病, 黄, 治, 血, 寒, 阳           </td></tr><tr><td style=\"padding-left:0.75em;\">Topic 6</td><td> 官, 本, 钱, 年, 臣, 日, 百, 路, 州, 司           </td></tr><tr><td style=\"padding-left:0.75em;\">Topic 7</td><td> 师, 法, 佛, 经, 道, 僧, 生, 时, 王, 门           </td></tr><tr><td style=\"padding-left:0.75em;\">Topic 8</td><td> 王, 侯, 国, 齐, 年, 义, 正, 文, 郑, 礼           </td></tr><tr><td style=\"padding-left:0.75em;\">Topic 9</td><td> 德, 阙, 天, 圣, 臣, 心, 道, 将, 神, 明           </td></tr><tr><td style=\"padding-left:0.75em;\">Topic 10</td><td> 心, 道, 生, 理, 学, 物, 能, 天, 处, 明           </td></tr><tr><td style=\"padding-left:0.75em;\">Topic 11</td><td> 天, 乐, 地, 物, 音, 声, 象, 正, 分, 神           </td></tr><tr><td style=\"padding-left:0.75em;\">Topic 12</td><td> 王, 帝, 年, 汉, 国, 太, 侯, 武, 秦, 元           </td></tr><tr><td style=\"padding-left:0.75em;\">Topic 13</td><td> 山, 金, 风, 日, 诗, 玉, 高, 生, 飞, 光           </td></tr><tr><td style=\"padding-left:0.75em;\">Topic 14</td><td> 军, 兵, 将, 州, 城, 遣, 战, 贼, 马, 守           </td></tr><tr><td style=\"padding-left:0.75em;\">Topic 15</td><td> 军, 将, 史, 刺, 王, 州, 阳, 司, 郡, 魏           </td></tr><tr><td style=\"padding-left:0.75em;\">Topic 16</td><td> 卷, 花, 风, 山, 时, 春, 日, 归, 月, 年           </td></tr><tr><td style=\"padding-left:0.75em;\">Topic 17</td><td> 县, 州, 南, 东, 山, 西, 里, 水, 年, 北           </td></tr><tr><td style=\"padding-left:0.75em;\">Topic 18</td><td> 礼, 祭, 服, 庙, 祀, 位, 皇, 拜, 西, 门           </td></tr><tr><td style=\"padding-left:0.75em;\">Topic 19</td><td> 能, 天, 臣, 民, 死, 行, 时, 道, 心, 已           </td></tr></table>"
      ],
      "text/plain": [
       "[LabeledColumn([(u'\\u5b98',   2.89241169e-02), (u'\\u53f8',   1.83126163e-02),\n",
       "        (u'\\u90e8',   1.82221588e-02), ..., (u'\\u5c71',   3.07261927e-09),\n",
       "        (u'\\u91cd',   3.07261927e-09), (u'\\u5e08',   3.07261927e-09)], \n",
       "       dtype=[('word', 'O'), ('value', '<f4')]),\n",
       " LabeledColumn([(u'\\u5377',   3.62639800e-02), (u'\\u4e66',   3.48049589e-02),\n",
       "        (u'\\u6587',   3.20340768e-02), ..., (u'\\u5fc3',   3.61515284e-09),\n",
       "        (u'\\u5175',   3.61515284e-09), (u'\\u5929',   3.61515284e-09)], \n",
       "       dtype=[('word', 'O'), ('value', '<f4')]),\n",
       " LabeledColumn([(u'\\u5e74',   1.38180424e-02), (u'\\u738b',   1.26614375e-02),\n",
       "        (u'\\u5e1d',   9.52988584e-03), ..., (u'\\u4f24',   7.22046478e-10),\n",
       "        (u'\\u949e',   7.22046478e-10), (u'\\u5c40',   7.22046478e-10)], \n",
       "       dtype=[('word', 'O'), ('value', '<f4')]),\n",
       " LabeledColumn([(u'\\u5e74',   2.11699735e-02), (u'\\u6c5f',   9.63276625e-03),\n",
       "        (u'\\u5c14',   9.37747024e-03), ..., (u'\\u620a',   4.45998216e-09),\n",
       "        (u'\\u4e50',   3.56798568e-09), (u'\\u5fc3',   3.56798568e-09)], \n",
       "       dtype=[('word', 'O'), ('value', '<f4')]),\n",
       " LabeledColumn([(u'\\u6708',   8.66454020e-02), (u'\\u65e5',   3.10259927e-02),\n",
       "        (u'\\u5e74',   2.32652668e-02), ..., (u'\\u7272',   5.16128651e-09),\n",
       "        (u'\\u7cbe',   5.16128651e-09), (u'\\u80e1',   5.16128651e-09)], \n",
       "       dtype=[('word', 'O'), ('value', '<f4')]),\n",
       " LabeledColumn([(u'\\u6c14',   2.08837111e-02), (u'\\u670d',   1.05144707e-02),\n",
       "        (u'\\u70ed',   1.00376792e-02), ..., (u'\\u897f',   6.27515240e-09),\n",
       "        (u'\\u81e3',   6.27515240e-09), (u'\\u671b',   6.27515240e-09)], \n",
       "       dtype=[('word', 'O'), ('value', '<f4')]),\n",
       " LabeledColumn([(u'\\u5b98',   1.32533209e-02), (u'\\u672c',   1.06211668e-02),\n",
       "        (u'\\u94b1',   1.00115519e-02), ..., (u'\\u5c09',   2.70603473e-09),\n",
       "        (u'\\u5fae',   2.70603473e-09), (u'\\u5f1f',   2.70603473e-09)], \n",
       "       dtype=[('word', 'O'), ('value', '<f4')]),\n",
       " LabeledColumn([(u'\\u5e08',   2.05015671e-02), (u'\\u6cd5',   1.46218594e-02),\n",
       "        (u'\\u4f5b',   1.34508619e-02), ..., (u'\\u7406',   4.55417348e-09),\n",
       "        (u'\\u653b',   4.55417348e-09), (u'\\u6c11',   4.55417348e-09)], \n",
       "       dtype=[('word', 'O'), ('value', '<f4')]),\n",
       " LabeledColumn([(u'\\u738b',   2.29361821e-02), (u'\\u4faf',   1.59475636e-02),\n",
       "        (u'\\u56fd',   1.47913275e-02), ..., (u'\\u5e1d',   3.87619803e-09),\n",
       "        (u'\\u5960',   3.87619803e-09), (u'\\u5c09',   3.87619803e-09)], \n",
       "       dtype=[('word', 'O'), ('value', '<f4')]),\n",
       " LabeledColumn([(u'\\u5fb7',   9.12500639e-03), (u'\\u9619',   7.41119822e-03),\n",
       "        (u'\\u5929',   6.97619701e-03), ..., (u'\\u4e16',   2.52672749e-09),\n",
       "        (u'\\u90e8',   2.52672749e-09), (u'\\u897f',   2.52672749e-09)], \n",
       "       dtype=[('word', 'O'), ('value', '<f4')]),\n",
       " LabeledColumn([(u'\\u5fc3',   1.70977991e-02), (u'\\u9053',   1.68665014e-02),\n",
       "        (u'\\u751f',   1.48627926e-02), ..., (u'\\u96e8',   4.22988933e-09),\n",
       "        (u'\\u5434',   4.22988933e-09), (u'\\u96ea',   4.22988933e-09)], \n",
       "       dtype=[('word', 'O'), ('value', '<f4')]),\n",
       " LabeledColumn([(u'\\u5929',   1.97012145e-02), (u'\\u4e50',   1.21612754e-02),\n",
       "        (u'\\u5730',   9.83726233e-03), ..., (u'\\u64b0',   4.74006878e-09),\n",
       "        (u'\\u53d1',   4.74006878e-09), (u'\\u5fc3',   3.79205467e-09)], \n",
       "       dtype=[('word', 'O'), ('value', '<f4')]),\n",
       " LabeledColumn([(u'\\u738b',   3.85586880e-02), (u'\\u5e1d',   2.40322594e-02),\n",
       "        (u'\\u5e74',   2.13070977e-02), ..., (u'\\u96be',   3.42563133e-09),\n",
       "        (u'\\u5dde',   0.00000000e+00), (u'\\u519b',   0.00000000e+00)], \n",
       "       dtype=[('word', 'O'), ('value', '<f4')]),\n",
       " LabeledColumn([(u'\\u5c71',   9.92226601e-03), (u'\\u91d1',   7.85359181e-03),\n",
       "        (u'\\u98ce',   7.69121014e-03), ..., (u'\\u51e0',   2.20858198e-09),\n",
       "        (u'\\u5bb3',   2.20858198e-09), (u'\\u5377',   1.76686554e-09)], \n",
       "       dtype=[('word', 'O'), ('value', '<f4')]),\n",
       " LabeledColumn([(u'\\u519b',   2.99340766e-02), (u'\\u5175',   2.95866933e-02),\n",
       "        (u'\\u5c06',   2.10680012e-02), ..., (u'\\u8bae',   2.23479790e-09),\n",
       "        (u'\\u52a0',   2.23479790e-09), (u'\\u4eb2',   2.23479790e-09)], \n",
       "       dtype=[('word', 'O'), ('value', '<f4')]),\n",
       " LabeledColumn([(u'\\u519b',   3.50015722e-02), (u'\\u5c06',   2.84621175e-02),\n",
       "        (u'\\u53f2',   1.51996771e-02), ..., (u'\\u80fd',   3.11028181e-09),\n",
       "        (u'\\u4f20',   3.11028181e-09), (u'\\u6587',   3.11028181e-09)], \n",
       "       dtype=[('word', 'O'), ('value', '<f4')]),\n",
       " LabeledColumn([(u'\\u5377',   1.16719911e-02), (u'\\u82b1',   1.01826647e-02),\n",
       "        (u'\\u98ce',   8.22209194e-03), ..., (u'\\u8f9e',   2.27822738e-09),\n",
       "        (u'\\u6cb3',   2.27822738e-09), (u'\\u53d8',   2.27822738e-09)], \n",
       "       dtype=[('word', 'O'), ('value', '<f4')]),\n",
       " LabeledColumn([(u'\\u53bf',   3.18251066e-02), (u'\\u5dde',   2.98520438e-02),\n",
       "        (u'\\u5357',   2.79786121e-02), ..., (u'\\u6708',   2.18646301e-09),\n",
       "        (u'\\u5fc3',   2.18646301e-09), (u'\\u751f',   2.18646301e-09)], \n",
       "       dtype=[('word', 'O'), ('value', '<f4')]),\n",
       " LabeledColumn([(u'\\u793c',   2.29790080e-02), (u'\\u796d',   1.66786518e-02),\n",
       "        (u'\\u670d',   1.13498690e-02), ..., (u'\\u98ce',   4.00337763e-09),\n",
       "        (u'\\u5c71',   4.00337763e-09), (u'\\u5fc3',   4.00337763e-09)], \n",
       "       dtype=[('word', 'O'), ('value', '<f4')]),\n",
       " LabeledColumn([(u'\\u80fd',   1.28621757e-02), (u'\\u5929',   1.17718065e-02),\n",
       "        (u'\\u81e3',   1.09651582e-02), ..., (u'\\u8ba8',   1.54701973e-09),\n",
       "        (u'\\u90d1',   1.54701973e-09), (u'\\u9ad8',   1.54701973e-09)], \n",
       "       dtype=[('word', 'O'), ('value', '<f4')])]"
      ]
     },
     "execution_count": 6,
     "metadata": {},
     "output_type": "execute_result"
    }
   ],
   "source": [
    "v.topics()"
   ]
  },
  {
   "cell_type": "markdown",
   "metadata": {},
   "source": [
    "To change the number of words printed per topic, use the `print_len` argument:"
   ]
  },
  {
   "cell_type": "code",
   "execution_count": 7,
   "metadata": {
    "collapsed": false
   },
   "outputs": [
    {
     "data": {
      "text/html": [
       "<table style=\"margin: 0\"><tr><th style=\"text-align: center; background: #CEE3F6\" colspan            =\"21\">Topics Sorted by Index</th></tr><tr><th style=\"text-align: center; background: #EFF2FB;\"                  >Topic</th><th style=\"text-align: center; background: #EFF2FB;\"                  >Words</th></tr><tr><td style=\"padding-left:0.75em;\">Topic 0</td><td> 官, 司, 部, 郎, 书, 史, 州, 士, 侍, 御, 军, 府, 正, 品, 都, 学, 监, 尚, 制, 置           </td></tr><tr><td style=\"padding-left:0.75em;\">Topic 1</td><td> 卷, 书, 文, 本, 诗, 传, 集, 记, 经, 纪, 志, 古, 学, 篇, 汉, 录, 百, 史, 类, 名           </td></tr><tr><td style=\"padding-left:0.75em;\">Topic 2</td><td> 年, 王, 帝, 太, 书, 宗, 元, 时, 文, 国, 州, 臣, 天, 德, 明, 朝, 皇, 日, 安, 官           </td></tr><tr><td style=\"padding-left:0.75em;\">Topic 3</td><td> 年, 江, 尔, 督, 总, 兵, 部, 抚, 南, 命, 山, 军, 阿, 海, 官, 克, 巡, 民, 西, 贼           </td></tr><tr><td style=\"padding-left:0.75em;\">Topic 4</td><td> 月, 日, 年, 星, 辰, 度, 壬, 辛, 庚, 甲, 丙, 戊, 癸, 分, 午, 天, 巳, 卯, 寅, 亥           </td></tr><tr><td style=\"padding-left:0.75em;\">Topic 5</td><td> 气, 服, 热, 水, 病, 黄, 治, 血, 寒, 阳, 生, 汤, 药, 阴, 脉, 痛, 味, 白, 食, 虚           </td></tr><tr><td style=\"padding-left:0.75em;\">Topic 6</td><td> 官, 本, 钱, 年, 臣, 日, 百, 路, 州, 司, 令, 诏, 法, 月, 民, 奏, 行, 已, 万, 千           </td></tr><tr><td style=\"padding-left:0.75em;\">Topic 7</td><td> 师, 法, 佛, 经, 道, 僧, 生, 时, 王, 门, 天, 山, 日, 寺, 名, 真, 身, 罗, 行, 禅           </td></tr><tr><td style=\"padding-left:0.75em;\">Topic 8</td><td> 王, 侯, 国, 齐, 年, 义, 正, 文, 郑, 礼, 父, 晋, 传, 周, 伯, 书, 楚, 服, 师, 母           </td></tr><tr><td style=\"padding-left:0.75em;\">Topic 9</td><td> 德, 阙, 天, 圣, 臣, 心, 道, 将, 神, 明, 命, 功, 实, 表, 风, 灵, 文, 载, 成, 礼           </td></tr><tr><td style=\"padding-left:0.75em;\">Topic 10</td><td> 心, 道, 生, 理, 学, 物, 能, 天, 处, 明, 时, 性, 义, 先, 意, 行, 圣, 气, 本, 仁           </td></tr><tr><td style=\"padding-left:0.75em;\">Topic 11</td><td> 天, 乐, 地, 物, 音, 声, 象, 正, 分, 神, 德, 尺, 百, 木, 成, 小, 马, 生, 应, 时           </td></tr><tr><td style=\"padding-left:0.75em;\">Topic 12</td><td> 王, 帝, 年, 汉, 国, 太, 侯, 武, 秦, 元, 皇, 封, 立, 时, 高, 阳, 天, 平, 东, 安           </td></tr><tr><td style=\"padding-left:0.75em;\">Topic 13</td><td> 山, 金, 风, 日, 诗, 玉, 高, 生, 飞, 光, 游, 天, 水, 乐, 清, 流, 白, 龙, 行, 石           </td></tr><tr><td style=\"padding-left:0.75em;\">Topic 14</td><td> 军, 兵, 将, 州, 城, 遣, 战, 贼, 马, 守, 攻, 都, 西, 金, 万, 李, 死, 败, 杀, 河           </td></tr><tr><td style=\"padding-left:0.75em;\">Topic 15</td><td> 军, 将, 史, 刺, 王, 州, 阳, 司, 郡, 魏, 骑, 太守, 尚, 书, 武, 祖, 征, 督, 尉, 城           </td></tr><tr><td style=\"padding-left:0.75em;\">Topic 16</td><td> 卷, 花, 风, 山, 时, 春, 日, 归, 月, 年, 江, 水, 夜, 白, 秋, 雨, 天, 前, 老, 处           </td></tr><tr><td style=\"padding-left:0.75em;\">Topic 17</td><td> 县, 州, 南, 东, 山, 西, 里, 水, 年, 北, 城, 河, 百, 置, 江, 府, 郡, 阳, 元, 流           </td></tr><tr><td style=\"padding-left:0.75em;\">Topic 18</td><td> 礼, 祭, 服, 庙, 祀, 位, 皇, 拜, 西, 门, 东, 神, 官, 前, 帝, 宾, 乐, 日, 仪, 太           </td></tr><tr><td style=\"padding-left:0.75em;\">Topic 19</td><td> 能, 天, 臣, 民, 死, 行, 时, 道, 心, 已, 士, 日, 将, 生, 国, 足, 家, 治, 以为, 世           </td></tr></table>"
      ],
      "text/plain": [
       "[LabeledColumn([(u'\\u5b98',   2.89241169e-02), (u'\\u53f8',   1.83126163e-02),\n",
       "        (u'\\u90e8',   1.82221588e-02), ..., (u'\\u5c71',   3.07261927e-09),\n",
       "        (u'\\u91cd',   3.07261927e-09), (u'\\u5e08',   3.07261927e-09)], \n",
       "       dtype=[('word', 'O'), ('value', '<f4')]),\n",
       " LabeledColumn([(u'\\u5377',   3.62639800e-02), (u'\\u4e66',   3.48049589e-02),\n",
       "        (u'\\u6587',   3.20340768e-02), ..., (u'\\u5fc3',   3.61515284e-09),\n",
       "        (u'\\u5175',   3.61515284e-09), (u'\\u5929',   3.61515284e-09)], \n",
       "       dtype=[('word', 'O'), ('value', '<f4')]),\n",
       " LabeledColumn([(u'\\u5e74',   1.38180424e-02), (u'\\u738b',   1.26614375e-02),\n",
       "        (u'\\u5e1d',   9.52988584e-03), ..., (u'\\u4f24',   7.22046478e-10),\n",
       "        (u'\\u949e',   7.22046478e-10), (u'\\u5c40',   7.22046478e-10)], \n",
       "       dtype=[('word', 'O'), ('value', '<f4')]),\n",
       " LabeledColumn([(u'\\u5e74',   2.11699735e-02), (u'\\u6c5f',   9.63276625e-03),\n",
       "        (u'\\u5c14',   9.37747024e-03), ..., (u'\\u620a',   4.45998216e-09),\n",
       "        (u'\\u4e50',   3.56798568e-09), (u'\\u5fc3',   3.56798568e-09)], \n",
       "       dtype=[('word', 'O'), ('value', '<f4')]),\n",
       " LabeledColumn([(u'\\u6708',   8.66454020e-02), (u'\\u65e5',   3.10259927e-02),\n",
       "        (u'\\u5e74',   2.32652668e-02), ..., (u'\\u7272',   5.16128651e-09),\n",
       "        (u'\\u7cbe',   5.16128651e-09), (u'\\u80e1',   5.16128651e-09)], \n",
       "       dtype=[('word', 'O'), ('value', '<f4')]),\n",
       " LabeledColumn([(u'\\u6c14',   2.08837111e-02), (u'\\u670d',   1.05144707e-02),\n",
       "        (u'\\u70ed',   1.00376792e-02), ..., (u'\\u897f',   6.27515240e-09),\n",
       "        (u'\\u81e3',   6.27515240e-09), (u'\\u671b',   6.27515240e-09)], \n",
       "       dtype=[('word', 'O'), ('value', '<f4')]),\n",
       " LabeledColumn([(u'\\u5b98',   1.32533209e-02), (u'\\u672c',   1.06211668e-02),\n",
       "        (u'\\u94b1',   1.00115519e-02), ..., (u'\\u5c09',   2.70603473e-09),\n",
       "        (u'\\u5fae',   2.70603473e-09), (u'\\u5f1f',   2.70603473e-09)], \n",
       "       dtype=[('word', 'O'), ('value', '<f4')]),\n",
       " LabeledColumn([(u'\\u5e08',   2.05015671e-02), (u'\\u6cd5',   1.46218594e-02),\n",
       "        (u'\\u4f5b',   1.34508619e-02), ..., (u'\\u7406',   4.55417348e-09),\n",
       "        (u'\\u653b',   4.55417348e-09), (u'\\u6c11',   4.55417348e-09)], \n",
       "       dtype=[('word', 'O'), ('value', '<f4')]),\n",
       " LabeledColumn([(u'\\u738b',   2.29361821e-02), (u'\\u4faf',   1.59475636e-02),\n",
       "        (u'\\u56fd',   1.47913275e-02), ..., (u'\\u5e1d',   3.87619803e-09),\n",
       "        (u'\\u5960',   3.87619803e-09), (u'\\u5c09',   3.87619803e-09)], \n",
       "       dtype=[('word', 'O'), ('value', '<f4')]),\n",
       " LabeledColumn([(u'\\u5fb7',   9.12500639e-03), (u'\\u9619',   7.41119822e-03),\n",
       "        (u'\\u5929',   6.97619701e-03), ..., (u'\\u4e16',   2.52672749e-09),\n",
       "        (u'\\u90e8',   2.52672749e-09), (u'\\u897f',   2.52672749e-09)], \n",
       "       dtype=[('word', 'O'), ('value', '<f4')]),\n",
       " LabeledColumn([(u'\\u5fc3',   1.70977991e-02), (u'\\u9053',   1.68665014e-02),\n",
       "        (u'\\u751f',   1.48627926e-02), ..., (u'\\u96e8',   4.22988933e-09),\n",
       "        (u'\\u5434',   4.22988933e-09), (u'\\u96ea',   4.22988933e-09)], \n",
       "       dtype=[('word', 'O'), ('value', '<f4')]),\n",
       " LabeledColumn([(u'\\u5929',   1.97012145e-02), (u'\\u4e50',   1.21612754e-02),\n",
       "        (u'\\u5730',   9.83726233e-03), ..., (u'\\u64b0',   4.74006878e-09),\n",
       "        (u'\\u53d1',   4.74006878e-09), (u'\\u5fc3',   3.79205467e-09)], \n",
       "       dtype=[('word', 'O'), ('value', '<f4')]),\n",
       " LabeledColumn([(u'\\u738b',   3.85586880e-02), (u'\\u5e1d',   2.40322594e-02),\n",
       "        (u'\\u5e74',   2.13070977e-02), ..., (u'\\u96be',   3.42563133e-09),\n",
       "        (u'\\u5dde',   0.00000000e+00), (u'\\u519b',   0.00000000e+00)], \n",
       "       dtype=[('word', 'O'), ('value', '<f4')]),\n",
       " LabeledColumn([(u'\\u5c71',   9.92226601e-03), (u'\\u91d1',   7.85359181e-03),\n",
       "        (u'\\u98ce',   7.69121014e-03), ..., (u'\\u51e0',   2.20858198e-09),\n",
       "        (u'\\u5bb3',   2.20858198e-09), (u'\\u5377',   1.76686554e-09)], \n",
       "       dtype=[('word', 'O'), ('value', '<f4')]),\n",
       " LabeledColumn([(u'\\u519b',   2.99340766e-02), (u'\\u5175',   2.95866933e-02),\n",
       "        (u'\\u5c06',   2.10680012e-02), ..., (u'\\u8bae',   2.23479790e-09),\n",
       "        (u'\\u52a0',   2.23479790e-09), (u'\\u4eb2',   2.23479790e-09)], \n",
       "       dtype=[('word', 'O'), ('value', '<f4')]),\n",
       " LabeledColumn([(u'\\u519b',   3.50015722e-02), (u'\\u5c06',   2.84621175e-02),\n",
       "        (u'\\u53f2',   1.51996771e-02), ..., (u'\\u80fd',   3.11028181e-09),\n",
       "        (u'\\u4f20',   3.11028181e-09), (u'\\u6587',   3.11028181e-09)], \n",
       "       dtype=[('word', 'O'), ('value', '<f4')]),\n",
       " LabeledColumn([(u'\\u5377',   1.16719911e-02), (u'\\u82b1',   1.01826647e-02),\n",
       "        (u'\\u98ce',   8.22209194e-03), ..., (u'\\u8f9e',   2.27822738e-09),\n",
       "        (u'\\u6cb3',   2.27822738e-09), (u'\\u53d8',   2.27822738e-09)], \n",
       "       dtype=[('word', 'O'), ('value', '<f4')]),\n",
       " LabeledColumn([(u'\\u53bf',   3.18251066e-02), (u'\\u5dde',   2.98520438e-02),\n",
       "        (u'\\u5357',   2.79786121e-02), ..., (u'\\u6708',   2.18646301e-09),\n",
       "        (u'\\u5fc3',   2.18646301e-09), (u'\\u751f',   2.18646301e-09)], \n",
       "       dtype=[('word', 'O'), ('value', '<f4')]),\n",
       " LabeledColumn([(u'\\u793c',   2.29790080e-02), (u'\\u796d',   1.66786518e-02),\n",
       "        (u'\\u670d',   1.13498690e-02), ..., (u'\\u98ce',   4.00337763e-09),\n",
       "        (u'\\u5c71',   4.00337763e-09), (u'\\u5fc3',   4.00337763e-09)], \n",
       "       dtype=[('word', 'O'), ('value', '<f4')]),\n",
       " LabeledColumn([(u'\\u80fd',   1.28621757e-02), (u'\\u5929',   1.17718065e-02),\n",
       "        (u'\\u81e3',   1.09651582e-02), ..., (u'\\u8ba8',   1.54701973e-09),\n",
       "        (u'\\u90d1',   1.54701973e-09), (u'\\u9ad8',   1.54701973e-09)], \n",
       "       dtype=[('word', 'O'), ('value', '<f4')])]"
      ]
     },
     "execution_count": 7,
     "metadata": {},
     "output_type": "execute_result"
    }
   ],
   "source": [
    "v.topics(print_len=20)"
   ]
  },
  {
   "cell_type": "markdown",
   "metadata": {},
   "source": [
    "### Viewing Document-topic probabilities\n",
    "The above code shows the topic-word distributions and allows us to estimate the quality of our topics.\n",
    "\n",
    "#### `v.labels`\n",
    "The property `v.labels` (without parentheses) returns a list of all documents in a corpus, and is useful for processing each document generically, wihtout having to look up the identifiers on the file system.\n",
    "\n",
    "Below, we print the first 3 document labels:"
   ]
  },
  {
   "cell_type": "code",
   "execution_count": 8,
   "metadata": {
    "collapsed": false
   },
   "outputs": [
    {
     "name": "stdout",
     "output_type": "stream",
     "text": [
      "handian2/『史部』/职官/唐六典/卷十五·光禄寺.txt\n",
      "handian2/『史部』/职官/唐六典/卷二十八·太子左右卫及诸率府.txt\n",
      "handian2/『史部』/职官/唐六典/卷三·尚书户部.txt\n"
     ]
    }
   ],
   "source": [
    "for label in v.labels[:3]:\n",
    "    print label"
   ]
  },
  {
   "cell_type": "markdown",
   "metadata": {},
   "source": [
    "#### `v.doc_topics(doc_or_docs)`\n",
    "Each document-topic distribution can be examined with `v.doc_topics()`, which takes as its argument either a single label or a list of labels. Below we view the distribution for the first 3 documents."
   ]
  },
  {
   "cell_type": "code",
   "execution_count": 15,
   "metadata": {
    "collapsed": false
   },
   "outputs": [
    {
     "data": {
      "text/html": [
       "<table style=\"margin: 0\"><tr><th style=\"text-align: center; background: #CEE3F6\" colspan                    =\"2\">Document: handian2/『经部』/经学史及小学类/陆氏易解/陆氏易解.txt</th></tr><tr><th style=\"text-align: center; background: #EFF2FB; \">Topic                          </th><th style=\"text-align: center; background: #EFF2FB; \">Prob                          </th></tr><tr><td>11                                                </td><td>0.75799                                           </td></tr><tr><td>19                                                </td><td>0.14387                                           </td></tr><tr><td>4                                                 </td><td>0.03991                                           </td></tr><tr><td>10                                                </td><td>0.02903                                           </td></tr><tr><td>14                                                </td><td>0.02903                                           </td></tr><tr><td>6                                                 </td><td>0.00001                                           </td></tr><tr><td>2                                                 </td><td>0.00001                                           </td></tr><tr><td>12                                                </td><td>0.00001                                           </td></tr><tr><td>5                                                 </td><td>0.00001                                           </td></tr><tr><td>1                                                 </td><td>0.00001                                           </td></tr></table>"
      ],
      "text/plain": [
       "LabeledColumn([(11,   7.57990718e-01), (19,   1.43870875e-01),\n",
       "       ( 4,   3.99057008e-02), (10,   2.90256366e-02),\n",
       "       (14,   2.90256273e-02), ( 6,   1.21007788e-05),\n",
       "       ( 2,   1.21007788e-05), (12,   1.21007788e-05),\n",
       "       ( 5,   1.21007788e-05), ( 1,   1.20915556e-05),\n",
       "       ( 3,   1.20915556e-05), ( 9,   1.20915556e-05),\n",
       "       (17,   1.20915556e-05), ( 0,   1.20915556e-05),\n",
       "       ( 7,   1.20892491e-05), ( 8,   1.20892491e-05),\n",
       "       (18,   1.20892491e-05), (13,   1.20892491e-05),\n",
       "       (16,   1.20892491e-05), (15,   1.20889617e-05)], \n",
       "      dtype=[('i', '<i8'), ('value', '<f4')])"
      ]
     },
     "execution_count": 15,
     "metadata": {},
     "output_type": "execute_result"
    }
   ],
   "source": [
    "v.doc_topics(u'handian2/『经部』/经学史及小学类/陆氏易解/陆氏易解.txt')"
   ]
  },
  {
   "cell_type": "markdown",
   "metadata": {},
   "source": [
    "#### `v.aggregate_doc_topics(doc_or_docs, normed_sum=False)`\n",
    "While `v.doc_topics(doc_or_docs)` shows the distribution for each document, `v.aggregate_doc_topics()` shows the average distribution of a collection of documents. The `normed` argument tells the program whether to weight each document by its length (`normed_sum=True`) or to consider them all equally (`normed_sum=False`)."
   ]
  },
  {
   "cell_type": "code",
   "execution_count": 27,
   "metadata": {
    "collapsed": false,
    "scrolled": false
   },
   "outputs": [
    {
     "data": {
      "text/plain": [
       "array([ 1628,  1155,  8411, ..., 10193, 12903, 13226], dtype=uint16)"
      ]
     },
     "execution_count": 27,
     "metadata": {},
     "output_type": "execute_result"
    }
   ],
   "source": []
  },
  {
   "cell_type": "code",
   "execution_count": 11,
   "metadata": {
    "collapsed": false
   },
   "outputs": [
    {
     "data": {
      "text/html": [
       "<table style=\"margin: 0\"><tr><th style=\"text-align: center; background: #CEE3F6\" colspan                    =\"2\">Aggregate Distribution over Topics</th></tr><tr><th style=\"text-align: center; background: #EFF2FB; \">Topic                          </th><th style=\"text-align: center; background: #EFF2FB; \">Prob                          </th></tr><tr><td>17                                     </td><td>0.29973                                </td></tr><tr><td>0                                      </td><td>0.23607                                </td></tr><tr><td>6                                      </td><td>0.13739                                </td></tr><tr><td>18                                     </td><td>0.11099                                </td></tr><tr><td>12                                     </td><td>0.05956                                </td></tr><tr><td>15                                     </td><td>0.04202                                </td></tr><tr><td>11                                     </td><td>0.02994                                </td></tr><tr><td>13                                     </td><td>0.02527                                </td></tr><tr><td>5                                      </td><td>0.02254                                </td></tr><tr><td>2                                      </td><td>0.01731                                </td></tr></table>"
      ],
      "text/plain": [
       "LabeledColumn([(17,   2.99730361e-01), ( 0,   2.36066356e-01),\n",
       "       ( 6,   1.37391150e-01), (18,   1.10991910e-01),\n",
       "       (12,   5.95616810e-02), (15,   4.20158431e-02),\n",
       "       (11,   2.99430173e-02), (13,   2.52748579e-02),\n",
       "       ( 5,   2.25383546e-02), ( 2,   1.73067786e-02),\n",
       "       (14,   9.90213174e-03), ( 4,   7.16562523e-03),\n",
       "       ( 8,   1.12921221e-03), ( 7,   9.68241307e-04),\n",
       "       ( 1,   2.41536827e-06), ( 9,   2.41475436e-06),\n",
       "       ( 3,   2.41461998e-06), (16,   2.41460089e-06),\n",
       "       (19,   2.41460089e-06), (10,   2.41458156e-06)], \n",
       "      dtype=[('i', '<i8'), ('value', '<f4')])"
      ]
     },
     "execution_count": 11,
     "metadata": {},
     "output_type": "execute_result"
    }
   ],
   "source": [
    "v.aggregate_doc_topics(v.labels[:3])"
   ]
  },
  {
   "cell_type": "markdown",
   "metadata": {},
   "source": [
    "### Comparing documents with `v.dist()`\n",
    "\n",
    "Topic models give us a way to compare the siimilarity between two documents. To do this, we use `v.dist()`:"
   ]
  },
  {
   "cell_type": "code",
   "execution_count": null,
   "metadata": {
    "collapsed": false
   },
   "outputs": [],
   "source": [
    "v.dist(v.labels[0], v.labels[1])"
   ]
  },
  {
   "cell_type": "markdown",
   "metadata": {},
   "source": [
    "#### Alternative distance measures\n",
    "By default, the Topic Explorer uses the Jensen-Shannon Distance to calculate the distance between documents. The Jensen-Shannon Distance (JSD) is a symmetric measure based on information theory that characterizes the difference between two probability distributions.\n",
    "\n",
    "However, several alternate methods are built into the `vsm.spatial` module. These include the Kullbeck-Liebler Divergence, which is an asymmetric component of the JSD and is used in [Murdock et al. (in review)](http://arxiv.org/abs/1509.07175) to characterize the cognitive surprise of a new text, given previous texts.\n",
    "\n",
    "Rather than using the JSD and assuming symmetric divergence between items, we assume that the second document is encountered after the first, effectively measuring text-to-text divergence."
   ]
  },
  {
   "cell_type": "code",
   "execution_count": null,
   "metadata": {
    "collapsed": false
   },
   "outputs": [],
   "source": [
    "# first import KL divergence:\n",
    "from vsm.spatial import KL_div\n",
    "\n",
    "# calculate KL divergence from the first document to the second\n",
    "print \"First to second\", v.dist(v.labels[0], v.labels[1], dist_fn=KL_div)\n",
    "\n",
    "# calculate KL divergence from the second document to the first, highlighting asymmetry:\n",
    "print \"Second to first\", v.dist(v.labels[1], v.labels[0], dist_fn=KL_div)"
   ]
  },
  {
   "cell_type": "markdown",
   "metadata": {},
   "source": [
    "# Using Python's Help System\n",
    "\n",
    "There are many other functions in the InPhO Topic Explorer and the associated `vsm` library. These are extensively documented within the code. \n",
    "\n",
    "One little-known feature about Python is its capacity for introspection: by using the `help()` method, one can find out all methods and properties of an object. For example, if one wanted to know what methods could be called on their corpus object, you could run:"
   ]
  },
  {
   "cell_type": "code",
   "execution_count": null,
   "metadata": {
    "collapsed": false
   },
   "outputs": [],
   "source": [
    "help(c)"
   ]
  },
  {
   "cell_type": "markdown",
   "metadata": {},
   "source": [
    "You can also get help on particular methods. For example, there are many arguments to `v.topics()` beyond `print_len`. These can be seen by calling `help(v.topics)` without parentheses after `v.topics`:"
   ]
  },
  {
   "cell_type": "code",
   "execution_count": null,
   "metadata": {
    "collapsed": false
   },
   "outputs": [],
   "source": [
    "help(v.topics)"
   ]
  },
  {
   "cell_type": "markdown",
   "metadata": {},
   "source": [
    "Calling `help(v.topics())` *with* parentheses will return help for the object reutrned by `v.topics()`, which is a `DataTable`:"
   ]
  },
  {
   "cell_type": "code",
   "execution_count": null,
   "metadata": {
    "collapsed": false
   },
   "outputs": [],
   "source": [
    "help(v.topics())"
   ]
  },
  {
   "cell_type": "markdown",
   "metadata": {},
   "source": [
    "It is important to emphasize that this functionality can be used with any python library, including the standard library. For example, one could look at all the functions included in the `math` library by using:"
   ]
  },
  {
   "cell_type": "code",
   "execution_count": null,
   "metadata": {
    "collapsed": false
   },
   "outputs": [],
   "source": [
    "import math\n",
    "help(math.log)"
   ]
  },
  {
   "cell_type": "markdown",
   "metadata": {},
   "source": [
    "# Additional Examples\n",
    "\n",
    "This notebook gives some basic building blocks for using the Topic Explorer. Additional examples can be found on GitHub in the [inpho/vsm-demo-notebooks repository](http://github.com/inpho/vsm-demo-notebooks).\n",
    "\n",
    "# Contact Information\n",
    "If you have additional questions regarding the InPhO Topic Explorer or have comments on this tutorial, please e-mail [tutorial@hypershelf.org](mailto:tutorial@hypershelf.org).\n"
   ]
  }
 ],
 "metadata": {
  "kernelspec": {
   "display_name": "Python [default]",
   "language": "python",
   "name": "python2"
  },
  "language_info": {
   "codemirror_mode": {
    "name": "ipython",
    "version": 2
   },
   "file_extension": ".py",
   "mimetype": "text/x-python",
   "name": "python",
   "nbconvert_exporter": "python",
   "pygments_lexer": "ipython2",
   "version": "2.7.12"
  }
 },
 "nbformat": 4,
 "nbformat_minor": 0
}
